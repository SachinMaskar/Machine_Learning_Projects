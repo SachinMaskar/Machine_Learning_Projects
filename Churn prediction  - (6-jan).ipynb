{
 "cells": [
  {
   "cell_type": "code",
   "execution_count": 1,
   "metadata": {},
   "outputs": [],
   "source": [
    "import pandas as pd\n",
    "import numpy as np\n",
    "from collections import Counter\n",
    "import matplotlib.pyplot as plt\n",
    "from sklearn.metrics import confusion_matrix , classification_report"
   ]
  },
  {
   "cell_type": "code",
   "execution_count": 2,
   "metadata": {},
   "outputs": [],
   "source": [
    "from imblearn.over_sampling import SMOTE \n",
    "from sklearn.model_selection import train_test_split"
   ]
  },
  {
   "cell_type": "code",
   "execution_count": 3,
   "metadata": {},
   "outputs": [],
   "source": [
    "# Read data set.\n",
    "data =pd.read_csv(\"Churn_Modelling.csv\")"
   ]
  },
  {
   "cell_type": "code",
   "execution_count": 4,
   "metadata": {},
   "outputs": [
    {
     "data": {
      "text/plain": [
       "(10000, 14)"
      ]
     },
     "execution_count": 4,
     "metadata": {},
     "output_type": "execute_result"
    }
   ],
   "source": [
    "# Chcek the shape of dataset. \n",
    "data.shape"
   ]
  },
  {
   "cell_type": "code",
   "execution_count": 5,
   "metadata": {},
   "outputs": [],
   "source": [
    "# Dataset contain the 10000 row and 14 columns."
   ]
  },
  {
   "cell_type": "code",
   "execution_count": 6,
   "metadata": {},
   "outputs": [
    {
     "data": {
      "text/html": [
       "<div>\n",
       "<style scoped>\n",
       "    .dataframe tbody tr th:only-of-type {\n",
       "        vertical-align: middle;\n",
       "    }\n",
       "\n",
       "    .dataframe tbody tr th {\n",
       "        vertical-align: top;\n",
       "    }\n",
       "\n",
       "    .dataframe thead th {\n",
       "        text-align: right;\n",
       "    }\n",
       "</style>\n",
       "<table border=\"1\" class=\"dataframe\">\n",
       "  <thead>\n",
       "    <tr style=\"text-align: right;\">\n",
       "      <th></th>\n",
       "      <th>RowNumber</th>\n",
       "      <th>CustomerId</th>\n",
       "      <th>Surname</th>\n",
       "      <th>CreditScore</th>\n",
       "      <th>Geography</th>\n",
       "      <th>Gender</th>\n",
       "      <th>Age</th>\n",
       "      <th>Tenure</th>\n",
       "      <th>Balance</th>\n",
       "      <th>NumOfProducts</th>\n",
       "      <th>HasCrCard</th>\n",
       "      <th>IsActiveMember</th>\n",
       "      <th>EstimatedSalary</th>\n",
       "      <th>Exited</th>\n",
       "    </tr>\n",
       "  </thead>\n",
       "  <tbody>\n",
       "    <tr>\n",
       "      <th>0</th>\n",
       "      <td>1</td>\n",
       "      <td>15634602</td>\n",
       "      <td>Hargrave</td>\n",
       "      <td>619</td>\n",
       "      <td>France</td>\n",
       "      <td>Female</td>\n",
       "      <td>42</td>\n",
       "      <td>2</td>\n",
       "      <td>0.00</td>\n",
       "      <td>1</td>\n",
       "      <td>1</td>\n",
       "      <td>1</td>\n",
       "      <td>101348.88</td>\n",
       "      <td>1</td>\n",
       "    </tr>\n",
       "    <tr>\n",
       "      <th>1</th>\n",
       "      <td>2</td>\n",
       "      <td>15647311</td>\n",
       "      <td>Hill</td>\n",
       "      <td>608</td>\n",
       "      <td>Spain</td>\n",
       "      <td>Female</td>\n",
       "      <td>41</td>\n",
       "      <td>1</td>\n",
       "      <td>83807.86</td>\n",
       "      <td>1</td>\n",
       "      <td>0</td>\n",
       "      <td>1</td>\n",
       "      <td>112542.58</td>\n",
       "      <td>0</td>\n",
       "    </tr>\n",
       "    <tr>\n",
       "      <th>2</th>\n",
       "      <td>3</td>\n",
       "      <td>15619304</td>\n",
       "      <td>Onio</td>\n",
       "      <td>502</td>\n",
       "      <td>France</td>\n",
       "      <td>Female</td>\n",
       "      <td>42</td>\n",
       "      <td>8</td>\n",
       "      <td>159660.80</td>\n",
       "      <td>3</td>\n",
       "      <td>1</td>\n",
       "      <td>0</td>\n",
       "      <td>113931.57</td>\n",
       "      <td>1</td>\n",
       "    </tr>\n",
       "    <tr>\n",
       "      <th>3</th>\n",
       "      <td>4</td>\n",
       "      <td>15701354</td>\n",
       "      <td>Boni</td>\n",
       "      <td>699</td>\n",
       "      <td>France</td>\n",
       "      <td>Female</td>\n",
       "      <td>39</td>\n",
       "      <td>1</td>\n",
       "      <td>0.00</td>\n",
       "      <td>2</td>\n",
       "      <td>0</td>\n",
       "      <td>0</td>\n",
       "      <td>93826.63</td>\n",
       "      <td>0</td>\n",
       "    </tr>\n",
       "    <tr>\n",
       "      <th>4</th>\n",
       "      <td>5</td>\n",
       "      <td>15737888</td>\n",
       "      <td>Mitchell</td>\n",
       "      <td>850</td>\n",
       "      <td>Spain</td>\n",
       "      <td>Female</td>\n",
       "      <td>43</td>\n",
       "      <td>2</td>\n",
       "      <td>125510.82</td>\n",
       "      <td>1</td>\n",
       "      <td>1</td>\n",
       "      <td>1</td>\n",
       "      <td>79084.10</td>\n",
       "      <td>0</td>\n",
       "    </tr>\n",
       "  </tbody>\n",
       "</table>\n",
       "</div>"
      ],
      "text/plain": [
       "   RowNumber  CustomerId   Surname  CreditScore Geography  Gender  Age  \\\n",
       "0          1    15634602  Hargrave          619    France  Female   42   \n",
       "1          2    15647311      Hill          608     Spain  Female   41   \n",
       "2          3    15619304      Onio          502    France  Female   42   \n",
       "3          4    15701354      Boni          699    France  Female   39   \n",
       "4          5    15737888  Mitchell          850     Spain  Female   43   \n",
       "\n",
       "   Tenure    Balance  NumOfProducts  HasCrCard  IsActiveMember  \\\n",
       "0       2       0.00              1          1               1   \n",
       "1       1   83807.86              1          0               1   \n",
       "2       8  159660.80              3          1               0   \n",
       "3       1       0.00              2          0               0   \n",
       "4       2  125510.82              1          1               1   \n",
       "\n",
       "   EstimatedSalary  Exited  \n",
       "0        101348.88       1  \n",
       "1        112542.58       0  \n",
       "2        113931.57       1  \n",
       "3         93826.63       0  \n",
       "4         79084.10       0  "
      ]
     },
     "execution_count": 6,
     "metadata": {},
     "output_type": "execute_result"
    }
   ],
   "source": [
    "# How the observation looks in dataframe.\n",
    "data.head()"
   ]
  },
  {
   "cell_type": "code",
   "execution_count": 7,
   "metadata": {},
   "outputs": [
    {
     "data": {
      "text/plain": [
       "Index(['RowNumber', 'CustomerId', 'Surname', 'CreditScore', 'Geography',\n",
       "       'Gender', 'Age', 'Tenure', 'Balance', 'NumOfProducts', 'HasCrCard',\n",
       "       'IsActiveMember', 'EstimatedSalary', 'Exited'],\n",
       "      dtype='object')"
      ]
     },
     "execution_count": 7,
     "metadata": {},
     "output_type": "execute_result"
    }
   ],
   "source": [
    "# DataFrame contain follwoing columns.\n",
    "data.columns"
   ]
  },
  {
   "cell_type": "code",
   "execution_count": 8,
   "metadata": {},
   "outputs": [
    {
     "data": {
      "text/plain": [
       "RowNumber            int64\n",
       "CustomerId           int64\n",
       "Surname             object\n",
       "CreditScore          int64\n",
       "Geography           object\n",
       "Gender              object\n",
       "Age                  int64\n",
       "Tenure               int64\n",
       "Balance            float64\n",
       "NumOfProducts        int64\n",
       "HasCrCard            int64\n",
       "IsActiveMember       int64\n",
       "EstimatedSalary    float64\n",
       "Exited               int64\n",
       "dtype: object"
      ]
     },
     "execution_count": 8,
     "metadata": {},
     "output_type": "execute_result"
    }
   ],
   "source": [
    "# Check the data type of each column in data frame. \n",
    "data.dtypes"
   ]
  },
  {
   "cell_type": "code",
   "execution_count": 9,
   "metadata": {},
   "outputs": [],
   "source": [
    "# Following columns are not important for modelso we remove from it.It contain unique values eiter name,roll number,\n",
    "# custmer id thses are not important for model building.\n",
    "data.drop(\"RowNumber\",axis=1,inplace=True)\n",
    "data.drop(\"CustomerId\",axis=1,inplace=True)\n",
    "data.drop(\"Surname\",axis=1,inplace=True)"
   ]
  },
  {
   "cell_type": "code",
   "execution_count": 10,
   "metadata": {},
   "outputs": [
    {
     "data": {
      "text/html": [
       "<div>\n",
       "<style scoped>\n",
       "    .dataframe tbody tr th:only-of-type {\n",
       "        vertical-align: middle;\n",
       "    }\n",
       "\n",
       "    .dataframe tbody tr th {\n",
       "        vertical-align: top;\n",
       "    }\n",
       "\n",
       "    .dataframe thead th {\n",
       "        text-align: right;\n",
       "    }\n",
       "</style>\n",
       "<table border=\"1\" class=\"dataframe\">\n",
       "  <thead>\n",
       "    <tr style=\"text-align: right;\">\n",
       "      <th></th>\n",
       "      <th>CreditScore</th>\n",
       "      <th>Geography</th>\n",
       "      <th>Gender</th>\n",
       "      <th>Age</th>\n",
       "      <th>Tenure</th>\n",
       "      <th>Balance</th>\n",
       "      <th>NumOfProducts</th>\n",
       "      <th>HasCrCard</th>\n",
       "      <th>IsActiveMember</th>\n",
       "      <th>EstimatedSalary</th>\n",
       "      <th>Exited</th>\n",
       "    </tr>\n",
       "  </thead>\n",
       "  <tbody>\n",
       "    <tr>\n",
       "      <th>0</th>\n",
       "      <td>619</td>\n",
       "      <td>France</td>\n",
       "      <td>Female</td>\n",
       "      <td>42</td>\n",
       "      <td>2</td>\n",
       "      <td>0.00</td>\n",
       "      <td>1</td>\n",
       "      <td>1</td>\n",
       "      <td>1</td>\n",
       "      <td>101348.88</td>\n",
       "      <td>1</td>\n",
       "    </tr>\n",
       "    <tr>\n",
       "      <th>1</th>\n",
       "      <td>608</td>\n",
       "      <td>Spain</td>\n",
       "      <td>Female</td>\n",
       "      <td>41</td>\n",
       "      <td>1</td>\n",
       "      <td>83807.86</td>\n",
       "      <td>1</td>\n",
       "      <td>0</td>\n",
       "      <td>1</td>\n",
       "      <td>112542.58</td>\n",
       "      <td>0</td>\n",
       "    </tr>\n",
       "    <tr>\n",
       "      <th>2</th>\n",
       "      <td>502</td>\n",
       "      <td>France</td>\n",
       "      <td>Female</td>\n",
       "      <td>42</td>\n",
       "      <td>8</td>\n",
       "      <td>159660.80</td>\n",
       "      <td>3</td>\n",
       "      <td>1</td>\n",
       "      <td>0</td>\n",
       "      <td>113931.57</td>\n",
       "      <td>1</td>\n",
       "    </tr>\n",
       "    <tr>\n",
       "      <th>3</th>\n",
       "      <td>699</td>\n",
       "      <td>France</td>\n",
       "      <td>Female</td>\n",
       "      <td>39</td>\n",
       "      <td>1</td>\n",
       "      <td>0.00</td>\n",
       "      <td>2</td>\n",
       "      <td>0</td>\n",
       "      <td>0</td>\n",
       "      <td>93826.63</td>\n",
       "      <td>0</td>\n",
       "    </tr>\n",
       "    <tr>\n",
       "      <th>4</th>\n",
       "      <td>850</td>\n",
       "      <td>Spain</td>\n",
       "      <td>Female</td>\n",
       "      <td>43</td>\n",
       "      <td>2</td>\n",
       "      <td>125510.82</td>\n",
       "      <td>1</td>\n",
       "      <td>1</td>\n",
       "      <td>1</td>\n",
       "      <td>79084.10</td>\n",
       "      <td>0</td>\n",
       "    </tr>\n",
       "  </tbody>\n",
       "</table>\n",
       "</div>"
      ],
      "text/plain": [
       "   CreditScore Geography  Gender  Age  Tenure    Balance  NumOfProducts  \\\n",
       "0          619    France  Female   42       2       0.00              1   \n",
       "1          608     Spain  Female   41       1   83807.86              1   \n",
       "2          502    France  Female   42       8  159660.80              3   \n",
       "3          699    France  Female   39       1       0.00              2   \n",
       "4          850     Spain  Female   43       2  125510.82              1   \n",
       "\n",
       "   HasCrCard  IsActiveMember  EstimatedSalary  Exited  \n",
       "0          1               1        101348.88       1  \n",
       "1          0               1        112542.58       0  \n",
       "2          1               0        113931.57       1  \n",
       "3          0               0         93826.63       0  \n",
       "4          1               1         79084.10       0  "
      ]
     },
     "execution_count": 10,
     "metadata": {},
     "output_type": "execute_result"
    }
   ],
   "source": [
    "# After deleting column following columns remainig the dataframe.\n",
    "data.head()"
   ]
  },
  {
   "cell_type": "code",
   "execution_count": 11,
   "metadata": {},
   "outputs": [
    {
     "data": {
      "text/plain": [
       "(10000, 11)"
      ]
     },
     "execution_count": 11,
     "metadata": {},
     "output_type": "execute_result"
    }
   ],
   "source": [
    "data.shape"
   ]
  },
  {
   "cell_type": "code",
   "execution_count": 12,
   "metadata": {},
   "outputs": [],
   "source": [
    "# Dataset contain 10000 row and 11 columns."
   ]
  },
  {
   "cell_type": "code",
   "execution_count": 13,
   "metadata": {},
   "outputs": [],
   "source": [
    "# Here we copy dtaframe to df for further processing. \n",
    "df=data.copy()"
   ]
  },
  {
   "cell_type": "code",
   "execution_count": 14,
   "metadata": {},
   "outputs": [
    {
     "name": "stdout",
     "output_type": "stream",
     "text": [
      "<class 'pandas.core.frame.DataFrame'>\n",
      "RangeIndex: 10000 entries, 0 to 9999\n",
      "Data columns (total 11 columns):\n",
      " #   Column           Non-Null Count  Dtype  \n",
      "---  ------           --------------  -----  \n",
      " 0   CreditScore      10000 non-null  int64  \n",
      " 1   Geography        10000 non-null  object \n",
      " 2   Gender           10000 non-null  object \n",
      " 3   Age              10000 non-null  int64  \n",
      " 4   Tenure           10000 non-null  int64  \n",
      " 5   Balance          10000 non-null  float64\n",
      " 6   NumOfProducts    10000 non-null  int64  \n",
      " 7   HasCrCard        10000 non-null  int64  \n",
      " 8   IsActiveMember   10000 non-null  int64  \n",
      " 9   EstimatedSalary  10000 non-null  float64\n",
      " 10  Exited           10000 non-null  int64  \n",
      "dtypes: float64(2), int64(7), object(2)\n",
      "memory usage: 859.5+ KB\n"
     ]
    }
   ],
   "source": [
    "# Chcek the information of data. \n",
    "# It gives datatype and non null count for each column including name. \n",
    "df.info()"
   ]
  },
  {
   "cell_type": "code",
   "execution_count": 15,
   "metadata": {},
   "outputs": [
    {
     "data": {
      "text/plain": [
       "CreditScore        0\n",
       "Geography          0\n",
       "Gender             0\n",
       "Age                0\n",
       "Tenure             0\n",
       "Balance            0\n",
       "NumOfProducts      0\n",
       "HasCrCard          0\n",
       "IsActiveMember     0\n",
       "EstimatedSalary    0\n",
       "Exited             0\n",
       "dtype: int64"
      ]
     },
     "execution_count": 15,
     "metadata": {},
     "output_type": "execute_result"
    }
   ],
   "source": [
    "# Chcek the missing values column wise in dataframe.\n",
    "df.isnull().sum()"
   ]
  },
  {
   "cell_type": "code",
   "execution_count": 16,
   "metadata": {},
   "outputs": [],
   "source": [
    "# No misisng values in this dataset"
   ]
  },
  {
   "cell_type": "code",
   "execution_count": 17,
   "metadata": {},
   "outputs": [
    {
     "data": {
      "text/html": [
       "<div>\n",
       "<style scoped>\n",
       "    .dataframe tbody tr th:only-of-type {\n",
       "        vertical-align: middle;\n",
       "    }\n",
       "\n",
       "    .dataframe tbody tr th {\n",
       "        vertical-align: top;\n",
       "    }\n",
       "\n",
       "    .dataframe thead th {\n",
       "        text-align: right;\n",
       "    }\n",
       "</style>\n",
       "<table border=\"1\" class=\"dataframe\">\n",
       "  <thead>\n",
       "    <tr style=\"text-align: right;\">\n",
       "      <th></th>\n",
       "      <th>CreditScore</th>\n",
       "      <th>Age</th>\n",
       "      <th>Tenure</th>\n",
       "      <th>Balance</th>\n",
       "      <th>NumOfProducts</th>\n",
       "      <th>HasCrCard</th>\n",
       "      <th>IsActiveMember</th>\n",
       "      <th>EstimatedSalary</th>\n",
       "      <th>Exited</th>\n",
       "    </tr>\n",
       "  </thead>\n",
       "  <tbody>\n",
       "    <tr>\n",
       "      <th>count</th>\n",
       "      <td>10000.000000</td>\n",
       "      <td>10000.000000</td>\n",
       "      <td>10000.000000</td>\n",
       "      <td>10000.000000</td>\n",
       "      <td>10000.000000</td>\n",
       "      <td>10000.00000</td>\n",
       "      <td>10000.000000</td>\n",
       "      <td>10000.000000</td>\n",
       "      <td>10000.000000</td>\n",
       "    </tr>\n",
       "    <tr>\n",
       "      <th>mean</th>\n",
       "      <td>650.528800</td>\n",
       "      <td>38.921800</td>\n",
       "      <td>5.012800</td>\n",
       "      <td>76485.889288</td>\n",
       "      <td>1.530200</td>\n",
       "      <td>0.70550</td>\n",
       "      <td>0.515100</td>\n",
       "      <td>100090.239881</td>\n",
       "      <td>0.203700</td>\n",
       "    </tr>\n",
       "    <tr>\n",
       "      <th>std</th>\n",
       "      <td>96.653299</td>\n",
       "      <td>10.487806</td>\n",
       "      <td>2.892174</td>\n",
       "      <td>62397.405202</td>\n",
       "      <td>0.581654</td>\n",
       "      <td>0.45584</td>\n",
       "      <td>0.499797</td>\n",
       "      <td>57510.492818</td>\n",
       "      <td>0.402769</td>\n",
       "    </tr>\n",
       "    <tr>\n",
       "      <th>min</th>\n",
       "      <td>350.000000</td>\n",
       "      <td>18.000000</td>\n",
       "      <td>0.000000</td>\n",
       "      <td>0.000000</td>\n",
       "      <td>1.000000</td>\n",
       "      <td>0.00000</td>\n",
       "      <td>0.000000</td>\n",
       "      <td>11.580000</td>\n",
       "      <td>0.000000</td>\n",
       "    </tr>\n",
       "    <tr>\n",
       "      <th>25%</th>\n",
       "      <td>584.000000</td>\n",
       "      <td>32.000000</td>\n",
       "      <td>3.000000</td>\n",
       "      <td>0.000000</td>\n",
       "      <td>1.000000</td>\n",
       "      <td>0.00000</td>\n",
       "      <td>0.000000</td>\n",
       "      <td>51002.110000</td>\n",
       "      <td>0.000000</td>\n",
       "    </tr>\n",
       "    <tr>\n",
       "      <th>50%</th>\n",
       "      <td>652.000000</td>\n",
       "      <td>37.000000</td>\n",
       "      <td>5.000000</td>\n",
       "      <td>97198.540000</td>\n",
       "      <td>1.000000</td>\n",
       "      <td>1.00000</td>\n",
       "      <td>1.000000</td>\n",
       "      <td>100193.915000</td>\n",
       "      <td>0.000000</td>\n",
       "    </tr>\n",
       "    <tr>\n",
       "      <th>75%</th>\n",
       "      <td>718.000000</td>\n",
       "      <td>44.000000</td>\n",
       "      <td>7.000000</td>\n",
       "      <td>127644.240000</td>\n",
       "      <td>2.000000</td>\n",
       "      <td>1.00000</td>\n",
       "      <td>1.000000</td>\n",
       "      <td>149388.247500</td>\n",
       "      <td>0.000000</td>\n",
       "    </tr>\n",
       "    <tr>\n",
       "      <th>max</th>\n",
       "      <td>850.000000</td>\n",
       "      <td>92.000000</td>\n",
       "      <td>10.000000</td>\n",
       "      <td>250898.090000</td>\n",
       "      <td>4.000000</td>\n",
       "      <td>1.00000</td>\n",
       "      <td>1.000000</td>\n",
       "      <td>199992.480000</td>\n",
       "      <td>1.000000</td>\n",
       "    </tr>\n",
       "  </tbody>\n",
       "</table>\n",
       "</div>"
      ],
      "text/plain": [
       "        CreditScore           Age        Tenure        Balance  NumOfProducts  \\\n",
       "count  10000.000000  10000.000000  10000.000000   10000.000000   10000.000000   \n",
       "mean     650.528800     38.921800      5.012800   76485.889288       1.530200   \n",
       "std       96.653299     10.487806      2.892174   62397.405202       0.581654   \n",
       "min      350.000000     18.000000      0.000000       0.000000       1.000000   \n",
       "25%      584.000000     32.000000      3.000000       0.000000       1.000000   \n",
       "50%      652.000000     37.000000      5.000000   97198.540000       1.000000   \n",
       "75%      718.000000     44.000000      7.000000  127644.240000       2.000000   \n",
       "max      850.000000     92.000000     10.000000  250898.090000       4.000000   \n",
       "\n",
       "         HasCrCard  IsActiveMember  EstimatedSalary        Exited  \n",
       "count  10000.00000    10000.000000     10000.000000  10000.000000  \n",
       "mean       0.70550        0.515100    100090.239881      0.203700  \n",
       "std        0.45584        0.499797     57510.492818      0.402769  \n",
       "min        0.00000        0.000000        11.580000      0.000000  \n",
       "25%        0.00000        0.000000     51002.110000      0.000000  \n",
       "50%        1.00000        1.000000    100193.915000      0.000000  \n",
       "75%        1.00000        1.000000    149388.247500      0.000000  \n",
       "max        1.00000        1.000000    199992.480000      1.000000  "
      ]
     },
     "execution_count": 17,
     "metadata": {},
     "output_type": "execute_result"
    }
   ],
   "source": [
    "# Chcek the summary statistics of data for only numerical columns\n",
    "df.describe()"
   ]
  },
  {
   "cell_type": "code",
   "execution_count": 18,
   "metadata": {},
   "outputs": [],
   "source": [
    "# discriptive statistics gives the clear understanding of numerical column like count,mean,standerd devation,minimum value,maximum \n",
    "# value,25 percentile,75 percentile."
   ]
  },
  {
   "cell_type": "code",
   "execution_count": 19,
   "metadata": {},
   "outputs": [
    {
     "name": "stdout",
     "output_type": "stream",
     "text": [
      "CreditScore:850    233\n",
      "678     63\n",
      "655     54\n",
      "705     53\n",
      "667     53\n",
      "      ... \n",
      "419      1\n",
      "417      1\n",
      "373      1\n",
      "365      1\n",
      "401      1\n",
      "Name: CreditScore, Length: 460, dtype: int64\n",
      "---------------------------------------------------------------------------------------------------\n",
      "---------------------------------------------------------------------------------------------------\n",
      "Geography:France     5014\n",
      "Germany    2509\n",
      "Spain      2477\n",
      "Name: Geography, dtype: int64\n",
      "---------------------------------------------------------------------------------------------------\n",
      "---------------------------------------------------------------------------------------------------\n",
      "Gender:Male      5457\n",
      "Female    4543\n",
      "Name: Gender, dtype: int64\n",
      "---------------------------------------------------------------------------------------------------\n",
      "---------------------------------------------------------------------------------------------------\n",
      "Age:37    478\n",
      "38    477\n",
      "35    474\n",
      "36    456\n",
      "34    447\n",
      "     ... \n",
      "92      2\n",
      "88      1\n",
      "82      1\n",
      "85      1\n",
      "83      1\n",
      "Name: Age, Length: 70, dtype: int64\n",
      "---------------------------------------------------------------------------------------------------\n",
      "---------------------------------------------------------------------------------------------------\n",
      "Tenure:2     1048\n",
      "1     1035\n",
      "7     1028\n",
      "8     1025\n",
      "5     1012\n",
      "3     1009\n",
      "4      989\n",
      "9      984\n",
      "6      967\n",
      "10     490\n",
      "0      413\n",
      "Name: Tenure, dtype: int64\n",
      "---------------------------------------------------------------------------------------------------\n",
      "---------------------------------------------------------------------------------------------------\n",
      "Balance:0.00         3617\n",
      "105473.74       2\n",
      "130170.82       2\n",
      "113063.83       1\n",
      "80242.37        1\n",
      "             ... \n",
      "183555.24       1\n",
      "137648.41       1\n",
      "112689.95       1\n",
      "115465.28       1\n",
      "74681.90        1\n",
      "Name: Balance, Length: 6382, dtype: int64\n",
      "---------------------------------------------------------------------------------------------------\n",
      "---------------------------------------------------------------------------------------------------\n",
      "NumOfProducts:1    5084\n",
      "2    4590\n",
      "3     266\n",
      "4      60\n",
      "Name: NumOfProducts, dtype: int64\n",
      "---------------------------------------------------------------------------------------------------\n",
      "---------------------------------------------------------------------------------------------------\n",
      "HasCrCard:1    7055\n",
      "0    2945\n",
      "Name: HasCrCard, dtype: int64\n",
      "---------------------------------------------------------------------------------------------------\n",
      "---------------------------------------------------------------------------------------------------\n",
      "IsActiveMember:1    5151\n",
      "0    4849\n",
      "Name: IsActiveMember, dtype: int64\n",
      "---------------------------------------------------------------------------------------------------\n",
      "---------------------------------------------------------------------------------------------------\n",
      "EstimatedSalary:24924.92     2\n",
      "109029.72    1\n",
      "182025.95    1\n",
      "82820.85     1\n",
      "30314.04     1\n",
      "            ..\n",
      "158302.59    1\n",
      "171037.63    1\n",
      "43036.60     1\n",
      "55034.02     1\n",
      "104181.78    1\n",
      "Name: EstimatedSalary, Length: 9999, dtype: int64\n",
      "---------------------------------------------------------------------------------------------------\n",
      "---------------------------------------------------------------------------------------------------\n",
      "Exited:0    7963\n",
      "1    2037\n",
      "Name: Exited, dtype: int64\n",
      "---------------------------------------------------------------------------------------------------\n",
      "---------------------------------------------------------------------------------------------------\n"
     ]
    }
   ],
   "source": [
    "for col in df:\n",
    "    print(f'{col}:{df[col].value_counts()}')\n",
    "    print(\"---------------------------------------------------------------------------------------------------\")\n",
    "    print(\"---------------------------------------------------------------------------------------------------\")"
   ]
  },
  {
   "cell_type": "markdown",
   "metadata": {},
   "source": [
    "## Data visualization "
   ]
  },
  {
   "cell_type": "code",
   "execution_count": 20,
   "metadata": {},
   "outputs": [
    {
     "data": {
      "text/plain": [
       "Index(['CreditScore', 'Geography', 'Gender', 'Age', 'Tenure', 'Balance',\n",
       "       'NumOfProducts', 'HasCrCard', 'IsActiveMember', 'EstimatedSalary',\n",
       "       'Exited'],\n",
       "      dtype='object')"
      ]
     },
     "execution_count": 20,
     "metadata": {},
     "output_type": "execute_result"
    }
   ],
   "source": [
    "df.columns"
   ]
  },
  {
   "cell_type": "code",
   "execution_count": 21,
   "metadata": {},
   "outputs": [],
   "source": [
    "from pylab import *\n",
    "rcParams['figure.figsize'] = 10,5"
   ]
  },
  {
   "cell_type": "code",
   "execution_count": 22,
   "metadata": {},
   "outputs": [
    {
     "data": {
      "text/html": [
       "<div>\n",
       "<style scoped>\n",
       "    .dataframe tbody tr th:only-of-type {\n",
       "        vertical-align: middle;\n",
       "    }\n",
       "\n",
       "    .dataframe tbody tr th {\n",
       "        vertical-align: top;\n",
       "    }\n",
       "\n",
       "    .dataframe thead th {\n",
       "        text-align: right;\n",
       "    }\n",
       "</style>\n",
       "<table border=\"1\" class=\"dataframe\">\n",
       "  <thead>\n",
       "    <tr style=\"text-align: right;\">\n",
       "      <th></th>\n",
       "      <th>Exited</th>\n",
       "    </tr>\n",
       "  </thead>\n",
       "  <tbody>\n",
       "    <tr>\n",
       "      <th>0</th>\n",
       "      <td>7963</td>\n",
       "    </tr>\n",
       "    <tr>\n",
       "      <th>1</th>\n",
       "      <td>2037</td>\n",
       "    </tr>\n",
       "  </tbody>\n",
       "</table>\n",
       "</div>"
      ],
      "text/plain": [
       "   Exited\n",
       "0    7963\n",
       "1    2037"
      ]
     },
     "execution_count": 22,
     "metadata": {},
     "output_type": "execute_result"
    }
   ],
   "source": [
    "# Check the value count for the Exited column. \n",
    "pd.DataFrame(df[\"Exited\"].value_counts())"
   ]
  },
  {
   "cell_type": "code",
   "execution_count": 23,
   "metadata": {},
   "outputs": [
    {
     "data": {
      "text/plain": [
       "<AxesSubplot:>"
      ]
     },
     "execution_count": 23,
     "metadata": {},
     "output_type": "execute_result"
    },
    {
     "data": {
      "image/png": "[encoded data removed]",
      "text/plain": [
       "<Figure size 720x360 with 1 Axes>"
      ]
     },
     "metadata": {
      "needs_background": "light"
     },
     "output_type": "display_data"
    }
   ],
   "source": [
    "# Visulaization of the churn varible customer is exited or not using bar plot.\n",
    "df[\"Exited\"].value_counts().plot.bar(rot=0)\n",
    "# Here o menas customer is not exited or 1 means exited."
   ]
  },
  {
   "cell_type": "code",
   "execution_count": 24,
   "metadata": {},
   "outputs": [],
   "source": [
    "# Here the count of o (customer non exited )is high and count of 1 is less (customer exited) \n",
    "# data is not balnced then we need to balnce this dataset.\n",
    "# we need to balnce dataset.\n",
    "# first visualise all data."
   ]
  },
  {
   "cell_type": "code",
   "execution_count": 25,
   "metadata": {},
   "outputs": [],
   "source": [
    "import seaborn as sns "
   ]
  },
  {
   "cell_type": "code",
   "execution_count": 26,
   "metadata": {},
   "outputs": [
    {
     "name": "stdout",
     "output_type": "stream",
     "text": [
      "France     5014\n",
      "Germany    2509\n",
      "Spain      2477\n",
      "Name: Geography, dtype: int64\n"
     ]
    },
    {
     "data": {
      "text/plain": [
       "<AxesSubplot:xlabel='Geography', ylabel='count'>"
      ]
     },
     "execution_count": 26,
     "metadata": {},
     "output_type": "execute_result"
    },
    {
     "data": {
      "image/png": "[encoded data removed]",
      "text/plain": [
       "<Figure size 720x360 with 1 Axes>"
      ]
     },
     "metadata": {
      "needs_background": "light"
     },
     "output_type": "display_data"
    }
   ],
   "source": [
    "# For geography \n",
    "print(df[\"Geography\"].value_counts())\n",
    "sns.countplot(x=\"Geography\", hue=\"Exited\", data=df)"
   ]
  },
  {
   "cell_type": "code",
   "execution_count": 27,
   "metadata": {},
   "outputs": [
    {
     "name": "stdout",
     "output_type": "stream",
     "text": [
      "Male      5457\n",
      "Female    4543\n",
      "Name: Gender, dtype: int64\n"
     ]
    },
    {
     "data": {
      "text/plain": [
       "<AxesSubplot:xlabel='Gender', ylabel='count'>"
      ]
     },
     "execution_count": 27,
     "metadata": {},
     "output_type": "execute_result"
    },
    {
     "data": {
      "image/png": "[encoded data removed]",
      "text/plain": [
       "<Figure size 720x360 with 1 Axes>"
      ]
     },
     "metadata": {
      "needs_background": "light"
     },
     "output_type": "display_data"
    }
   ],
   "source": [
    "# For Gender\n",
    "print(df[\"Gender\"].value_counts())\n",
    "sns.countplot(x=\"Gender\", hue=\"Exited\", data=df)"
   ]
  },
  {
   "cell_type": "code",
   "execution_count": 28,
   "metadata": {},
   "outputs": [],
   "source": [
    "# Age column "
   ]
  },
  {
   "cell_type": "code",
   "execution_count": 29,
   "metadata": {},
   "outputs": [
    {
     "data": {
      "text/plain": [
       "count    10000.000000\n",
       "mean        38.921800\n",
       "std         10.487806\n",
       "min         18.000000\n",
       "25%         32.000000\n",
       "50%         37.000000\n",
       "75%         44.000000\n",
       "max         92.000000\n",
       "Name: Age, dtype: float64"
      ]
     },
     "execution_count": 29,
     "metadata": {},
     "output_type": "execute_result"
    }
   ],
   "source": [
    "df[\"Age\"].describe()"
   ]
  },
  {
   "cell_type": "code",
   "execution_count": 30,
   "metadata": {},
   "outputs": [],
   "source": [
    "# Here age column has the min value is 18 and for the max value 92\n",
    "# Convert it into bins using the cut fucntion in python."
   ]
  },
  {
   "cell_type": "code",
   "execution_count": 31,
   "metadata": {},
   "outputs": [],
   "source": [
    "df[\"age_inerval\"]=pd.cut(df['Age'], range(10, 100, 10))"
   ]
  },
  {
   "cell_type": "code",
   "execution_count": 32,
   "metadata": {},
   "outputs": [
    {
     "data": {
      "text/plain": [
       "(30, 40]    4451\n",
       "(40, 50]    2320\n",
       "(20, 30]    1879\n",
       "(50, 60]     797\n",
       "(60, 70]     331\n",
       "(70, 80]     121\n",
       "(10, 20]      89\n",
       "(80, 90]      10\n",
       "Name: age_inerval, dtype: int64"
      ]
     },
     "execution_count": 32,
     "metadata": {},
     "output_type": "execute_result"
    }
   ],
   "source": [
    "df[\"age_inerval\"].value_counts()"
   ]
  },
  {
   "cell_type": "code",
   "execution_count": 33,
   "metadata": {},
   "outputs": [
    {
     "data": {
      "text/plain": [
       "<AxesSubplot:>"
      ]
     },
     "execution_count": 33,
     "metadata": {},
     "output_type": "execute_result"
    },
    {
     "data": {
      "image/png": "[encoded data removed]",
      "text/plain": [
       "<Figure size 720x360 with 1 Axes>"
      ]
     },
     "metadata": {
      "needs_background": "light"
     },
     "output_type": "display_data"
    }
   ],
   "source": [
    "df[\"age_inerval\"].value_counts().plot(kind=\"bar\")"
   ]
  },
  {
   "cell_type": "code",
   "execution_count": 34,
   "metadata": {},
   "outputs": [
    {
     "name": "stdout",
     "output_type": "stream",
     "text": [
      "(30, 40]    4451\n",
      "(40, 50]    2320\n",
      "(20, 30]    1879\n",
      "(50, 60]     797\n",
      "(60, 70]     331\n",
      "(70, 80]     121\n",
      "(10, 20]      89\n",
      "(80, 90]      10\n",
      "Name: age_inerval, dtype: int64\n"
     ]
    },
    {
     "data": {
      "text/plain": [
       "<AxesSubplot:xlabel='age_inerval', ylabel='count'>"
      ]
     },
     "execution_count": 34,
     "metadata": {},
     "output_type": "execute_result"
    },
    {
     "data": {
      "image/png": "[encoded data removed]",
      "text/plain": [
       "<Figure size 720x360 with 1 Axes>"
      ]
     },
     "metadata": {
      "needs_background": "light"
     },
     "output_type": "display_data"
    }
   ],
   "source": [
    "# plot age_inerval count plot with exited column.\n",
    "print(df[\"age_inerval\"].value_counts())\n",
    "sns.countplot(x=\"age_inerval\", hue=\"Exited\", data=df)"
   ]
  },
  {
   "cell_type": "code",
   "execution_count": 35,
   "metadata": {},
   "outputs": [
    {
     "data": {
      "text/plain": [
       "Index(['CreditScore', 'Geography', 'Gender', 'Age', 'Tenure', 'Balance',\n",
       "       'NumOfProducts', 'HasCrCard', 'IsActiveMember', 'EstimatedSalary',\n",
       "       'Exited', 'age_inerval'],\n",
       "      dtype='object')"
      ]
     },
     "execution_count": 35,
     "metadata": {},
     "output_type": "execute_result"
    }
   ],
   "source": [
    "df.columns"
   ]
  },
  {
   "cell_type": "code",
   "execution_count": 36,
   "metadata": {},
   "outputs": [
    {
     "data": {
      "text/plain": [
       "2     1048\n",
       "1     1035\n",
       "7     1028\n",
       "8     1025\n",
       "5     1012\n",
       "3     1009\n",
       "4      989\n",
       "9      984\n",
       "6      967\n",
       "10     490\n",
       "0      413\n",
       "Name: Tenure, dtype: int64"
      ]
     },
     "execution_count": 36,
     "metadata": {},
     "output_type": "execute_result"
    }
   ],
   "source": [
    "df[\"Tenure\"].value_counts()"
   ]
  },
  {
   "cell_type": "code",
   "execution_count": 37,
   "metadata": {},
   "outputs": [
    {
     "name": "stdout",
     "output_type": "stream",
     "text": [
      "2     1048\n",
      "1     1035\n",
      "7     1028\n",
      "8     1025\n",
      "5     1012\n",
      "3     1009\n",
      "4      989\n",
      "9      984\n",
      "6      967\n",
      "10     490\n",
      "0      413\n",
      "Name: Tenure, dtype: int64\n"
     ]
    },
    {
     "data": {
      "text/plain": [
       "<AxesSubplot:xlabel='Tenure', ylabel='count'>"
      ]
     },
     "execution_count": 37,
     "metadata": {},
     "output_type": "execute_result"
    },
    {
     "data": {
      "image/png": "[encoded data removed]",
      "text/plain": [
       "<Figure size 720x360 with 1 Axes>"
      ]
     },
     "metadata": {
      "needs_background": "light"
     },
     "output_type": "display_data"
    }
   ],
   "source": [
    "# plot count plot with exited column.\n",
    "print(df[\"Tenure\"].value_counts())\n",
    "sns.countplot(x=\"Tenure\", hue=\"Exited\", data=df)"
   ]
  },
  {
   "cell_type": "code",
   "execution_count": 38,
   "metadata": {},
   "outputs": [],
   "source": [
    "# Here Balance is umerical column \n",
    "# Here we convert into categorical column and plot with Exited"
   ]
  },
  {
   "cell_type": "code",
   "execution_count": 39,
   "metadata": {},
   "outputs": [
    {
     "data": {
      "text/plain": [
       "count     10000.000000\n",
       "mean      76485.889288\n",
       "std       62397.405202\n",
       "min           0.000000\n",
       "25%           0.000000\n",
       "50%       97198.540000\n",
       "75%      127644.240000\n",
       "max      250898.090000\n",
       "Name: Balance, dtype: float64"
      ]
     },
     "execution_count": 39,
     "metadata": {},
     "output_type": "execute_result"
    }
   ],
   "source": [
    "df[\"Balance\"].describe()"
   ]
  },
  {
   "cell_type": "code",
   "execution_count": 40,
   "metadata": {},
   "outputs": [],
   "source": [
    "df[\"Balance_interval\"]=pd.cut(df['Balance'], range(0,250899,10000))"
   ]
  },
  {
   "cell_type": "code",
   "execution_count": 41,
   "metadata": {},
   "outputs": [
    {
     "name": "stdout",
     "output_type": "stream",
     "text": [
      "(120000, 130000]    898\n",
      "(110000, 120000]    832\n",
      "(100000, 110000]    786\n",
      "(130000, 140000]    734\n",
      "(90000, 100000]     599\n",
      "(140000, 150000]    580\n",
      "(80000, 90000]      400\n",
      "(150000, 160000]    386\n",
      "(70000, 80000]      274\n",
      "(160000, 170000]    264\n",
      "(170000, 180000]    159\n",
      "(60000, 70000]      156\n",
      "(180000, 190000]     86\n",
      "(50000, 60000]       80\n",
      "(40000, 50000]       46\n",
      "(190000, 200000]     40\n",
      "(200000, 210000]     21\n",
      "(30000, 40000]       17\n",
      "(210000, 220000]      9\n",
      "(20000, 30000]        8\n",
      "(10000, 20000]        3\n",
      "(220000, 230000]      2\n",
      "(0, 10000]            1\n",
      "(230000, 240000]      1\n",
      "(240000, 250000]      0\n",
      "Name: Balance_interval, dtype: int64\n"
     ]
    },
    {
     "data": {
      "text/plain": [
       "<AxesSubplot:xlabel='Balance_interval', ylabel='count'>"
      ]
     },
     "execution_count": 41,
     "metadata": {},
     "output_type": "execute_result"
    },
    {
     "data": {
      "image/png": "[encoded data removed]",
      "text/plain": [
       "<Figure size 720x360 with 1 Axes>"
      ]
     },
     "metadata": {
      "needs_background": "light"
     },
     "output_type": "display_data"
    }
   ],
   "source": [
    "# plot count plot with exited column.\n",
    "print(df[\"Balance_interval\"].value_counts())\n",
    "sns.countplot(x=\"Balance_interval\", hue=\"Exited\", data=df)"
   ]
  },
  {
   "cell_type": "code",
   "execution_count": 42,
   "metadata": {},
   "outputs": [
    {
     "data": {
      "text/plain": [
       "1    5084\n",
       "2    4590\n",
       "3     266\n",
       "4      60\n",
       "Name: NumOfProducts, dtype: int64"
      ]
     },
     "execution_count": 42,
     "metadata": {},
     "output_type": "execute_result"
    }
   ],
   "source": [
    "# NumOfProducts\n",
    "df[\"NumOfProducts\"].value_counts()"
   ]
  },
  {
   "cell_type": "code",
   "execution_count": 43,
   "metadata": {},
   "outputs": [
    {
     "name": "stdout",
     "output_type": "stream",
     "text": [
      "1    5084\n",
      "2    4590\n",
      "3     266\n",
      "4      60\n",
      "Name: NumOfProducts, dtype: int64\n"
     ]
    },
    {
     "data": {
      "text/plain": [
       "<AxesSubplot:xlabel='NumOfProducts', ylabel='count'>"
      ]
     },
     "execution_count": 43,
     "metadata": {},
     "output_type": "execute_result"
    },
    {
     "data": {
      "image/png": "[encoded data removed]",
      "text/plain": [
       "<Figure size 720x360 with 1 Axes>"
      ]
     },
     "metadata": {
      "needs_background": "light"
     },
     "output_type": "display_data"
    }
   ],
   "source": [
    "# plot count plot with exited column.\n",
    "print(df[\"NumOfProducts\"].value_counts())\n",
    "sns.countplot(x=\"NumOfProducts\", hue=\"Exited\", data=df)"
   ]
  },
  {
   "cell_type": "code",
   "execution_count": 44,
   "metadata": {},
   "outputs": [
    {
     "data": {
      "text/plain": [
       "Index(['CreditScore', 'Geography', 'Gender', 'Age', 'Tenure', 'Balance',\n",
       "       'NumOfProducts', 'HasCrCard', 'IsActiveMember', 'EstimatedSalary',\n",
       "       'Exited', 'age_inerval', 'Balance_interval'],\n",
       "      dtype='object')"
      ]
     },
     "execution_count": 44,
     "metadata": {},
     "output_type": "execute_result"
    }
   ],
   "source": [
    "df.columns"
   ]
  },
  {
   "cell_type": "code",
   "execution_count": 45,
   "metadata": {},
   "outputs": [
    {
     "data": {
      "text/plain": [
       "1    7055\n",
       "0    2945\n",
       "Name: HasCrCard, dtype: int64"
      ]
     },
     "execution_count": 45,
     "metadata": {},
     "output_type": "execute_result"
    }
   ],
   "source": [
    "# for HasCrCard\n",
    "df[\"HasCrCard\"].value_counts()"
   ]
  },
  {
   "cell_type": "code",
   "execution_count": 46,
   "metadata": {},
   "outputs": [
    {
     "name": "stdout",
     "output_type": "stream",
     "text": [
      "1    7055\n",
      "0    2945\n",
      "Name: HasCrCard, dtype: int64\n"
     ]
    },
    {
     "data": {
      "text/plain": [
       "<AxesSubplot:xlabel='HasCrCard', ylabel='count'>"
      ]
     },
     "execution_count": 46,
     "metadata": {},
     "output_type": "execute_result"
    },
    {
     "data": {
      "image/png": "[encoded data removed]",
      "text/plain": [
       "<Figure size 720x360 with 1 Axes>"
      ]
     },
     "metadata": {
      "needs_background": "light"
     },
     "output_type": "display_data"
    }
   ],
   "source": [
    "print(df[\"HasCrCard\"].value_counts())\n",
    "sns.countplot(x=\"HasCrCard\", hue=\"Exited\", data=df)"
   ]
  },
  {
   "cell_type": "code",
   "execution_count": 47,
   "metadata": {},
   "outputs": [
    {
     "name": "stdout",
     "output_type": "stream",
     "text": [
      "1    5151\n",
      "0    4849\n",
      "Name: IsActiveMember, dtype: int64\n"
     ]
    },
    {
     "data": {
      "text/plain": [
       "<AxesSubplot:xlabel='IsActiveMember', ylabel='count'>"
      ]
     },
     "execution_count": 47,
     "metadata": {},
     "output_type": "execute_result"
    },
    {
     "data": {
      "image/png": "[encoded data removed]",
      "text/plain": [
       "<Figure size 720x360 with 1 Axes>"
      ]
     },
     "metadata": {
      "needs_background": "light"
     },
     "output_type": "display_data"
    }
   ],
   "source": [
    "# For IsActiveMember\n",
    "print(df[\"IsActiveMember\"].value_counts())\n",
    "sns.countplot(x=\"IsActiveMember\", hue=\"Exited\", data=df)"
   ]
  },
  {
   "cell_type": "code",
   "execution_count": 48,
   "metadata": {},
   "outputs": [
    {
     "data": {
      "text/plain": [
       "24924.92     2\n",
       "109029.72    1\n",
       "182025.95    1\n",
       "82820.85     1\n",
       "30314.04     1\n",
       "            ..\n",
       "158302.59    1\n",
       "171037.63    1\n",
       "43036.60     1\n",
       "55034.02     1\n",
       "104181.78    1\n",
       "Name: EstimatedSalary, Length: 9999, dtype: int64"
      ]
     },
     "execution_count": 48,
     "metadata": {},
     "output_type": "execute_result"
    }
   ],
   "source": [
    "# For EstimatedSalary\n",
    "df[\"EstimatedSalary\"].value_counts()\n",
    "# This is numerical column we convert it into the bins and plot with Exited\n"
   ]
  },
  {
   "cell_type": "code",
   "execution_count": 49,
   "metadata": {},
   "outputs": [
    {
     "data": {
      "text/plain": [
       "count     10000.000000\n",
       "mean     100090.239881\n",
       "std       57510.492818\n",
       "min          11.580000\n",
       "25%       51002.110000\n",
       "50%      100193.915000\n",
       "75%      149388.247500\n",
       "max      199992.480000\n",
       "Name: EstimatedSalary, dtype: float64"
      ]
     },
     "execution_count": 49,
     "metadata": {},
     "output_type": "execute_result"
    }
   ],
   "source": [
    "df[\"EstimatedSalary\"].describe()"
   ]
  },
  {
   "cell_type": "code",
   "execution_count": 50,
   "metadata": {},
   "outputs": [],
   "source": [
    "df[\"age_EstimatedSalary\"]=pd.cut(df['EstimatedSalary'], range(0, 200000, 10000))"
   ]
  },
  {
   "cell_type": "code",
   "execution_count": 51,
   "metadata": {},
   "outputs": [
    {
     "data": {
      "text/plain": [
       "(100000, 110000]    536\n",
       "(170000, 180000]    531\n",
       "(140000, 150000]    521\n",
       "(70000, 80000]      520\n",
       "(80000, 90000]      510\n",
       "(0, 10000]          508\n",
       "(50000, 60000]      508\n",
       "(60000, 70000]      507\n",
       "(120000, 130000]    505\n",
       "(130000, 140000]    502\n",
       "(40000, 50000]      498\n",
       "(20000, 30000]      492\n",
       "(90000, 100000]     492\n",
       "(110000, 120000]    491\n",
       "(160000, 170000]    478\n",
       "(10000, 20000]      478\n",
       "(30000, 40000]      477\n",
       "(180000, 190000]    476\n",
       "(150000, 160000]    461\n",
       "Name: age_EstimatedSalary, dtype: int64"
      ]
     },
     "execution_count": 51,
     "metadata": {},
     "output_type": "execute_result"
    }
   ],
   "source": [
    "df[\"age_EstimatedSalary\"].value_counts()"
   ]
  },
  {
   "cell_type": "code",
   "execution_count": 52,
   "metadata": {},
   "outputs": [
    {
     "data": {
      "text/plain": [
       "<AxesSubplot:xlabel='age_EstimatedSalary', ylabel='count'>"
      ]
     },
     "execution_count": 52,
     "metadata": {},
     "output_type": "execute_result"
    },
    {
     "data": {
      "image/png": "[encoded data removed]",
      "text/plain": [
       "<Figure size 720x360 with 1 Axes>"
      ]
     },
     "metadata": {
      "needs_background": "light"
     },
     "output_type": "display_data"
    }
   ],
   "source": [
    "sns.countplot(x=\"age_EstimatedSalary\", hue=\"Exited\", data=df)"
   ]
  },
  {
   "cell_type": "code",
   "execution_count": 53,
   "metadata": {},
   "outputs": [],
   "source": [
    "########"
   ]
  },
  {
   "cell_type": "code",
   "execution_count": 54,
   "metadata": {},
   "outputs": [
    {
     "data": {
      "text/html": [
       "<div>\n",
       "<style scoped>\n",
       "    .dataframe tbody tr th:only-of-type {\n",
       "        vertical-align: middle;\n",
       "    }\n",
       "\n",
       "    .dataframe tbody tr th {\n",
       "        vertical-align: top;\n",
       "    }\n",
       "\n",
       "    .dataframe thead th {\n",
       "        text-align: right;\n",
       "    }\n",
       "</style>\n",
       "<table border=\"1\" class=\"dataframe\">\n",
       "  <thead>\n",
       "    <tr style=\"text-align: right;\">\n",
       "      <th></th>\n",
       "      <th>CreditScore</th>\n",
       "      <th>Geography</th>\n",
       "      <th>Gender</th>\n",
       "      <th>Age</th>\n",
       "      <th>Tenure</th>\n",
       "      <th>Balance</th>\n",
       "      <th>NumOfProducts</th>\n",
       "      <th>HasCrCard</th>\n",
       "      <th>IsActiveMember</th>\n",
       "      <th>EstimatedSalary</th>\n",
       "      <th>Exited</th>\n",
       "      <th>age_inerval</th>\n",
       "      <th>Balance_interval</th>\n",
       "      <th>age_EstimatedSalary</th>\n",
       "    </tr>\n",
       "  </thead>\n",
       "  <tbody>\n",
       "    <tr>\n",
       "      <th>0</th>\n",
       "      <td>619</td>\n",
       "      <td>France</td>\n",
       "      <td>Female</td>\n",
       "      <td>42</td>\n",
       "      <td>2</td>\n",
       "      <td>0.00</td>\n",
       "      <td>1</td>\n",
       "      <td>1</td>\n",
       "      <td>1</td>\n",
       "      <td>101348.88</td>\n",
       "      <td>1</td>\n",
       "      <td>(40, 50]</td>\n",
       "      <td>NaN</td>\n",
       "      <td>(100000, 110000]</td>\n",
       "    </tr>\n",
       "    <tr>\n",
       "      <th>1</th>\n",
       "      <td>608</td>\n",
       "      <td>Spain</td>\n",
       "      <td>Female</td>\n",
       "      <td>41</td>\n",
       "      <td>1</td>\n",
       "      <td>83807.86</td>\n",
       "      <td>1</td>\n",
       "      <td>0</td>\n",
       "      <td>1</td>\n",
       "      <td>112542.58</td>\n",
       "      <td>0</td>\n",
       "      <td>(40, 50]</td>\n",
       "      <td>(80000.0, 90000.0]</td>\n",
       "      <td>(110000, 120000]</td>\n",
       "    </tr>\n",
       "    <tr>\n",
       "      <th>2</th>\n",
       "      <td>502</td>\n",
       "      <td>France</td>\n",
       "      <td>Female</td>\n",
       "      <td>42</td>\n",
       "      <td>8</td>\n",
       "      <td>159660.80</td>\n",
       "      <td>3</td>\n",
       "      <td>1</td>\n",
       "      <td>0</td>\n",
       "      <td>113931.57</td>\n",
       "      <td>1</td>\n",
       "      <td>(40, 50]</td>\n",
       "      <td>(150000.0, 160000.0]</td>\n",
       "      <td>(110000, 120000]</td>\n",
       "    </tr>\n",
       "    <tr>\n",
       "      <th>3</th>\n",
       "      <td>699</td>\n",
       "      <td>France</td>\n",
       "      <td>Female</td>\n",
       "      <td>39</td>\n",
       "      <td>1</td>\n",
       "      <td>0.00</td>\n",
       "      <td>2</td>\n",
       "      <td>0</td>\n",
       "      <td>0</td>\n",
       "      <td>93826.63</td>\n",
       "      <td>0</td>\n",
       "      <td>(30, 40]</td>\n",
       "      <td>NaN</td>\n",
       "      <td>(90000, 100000]</td>\n",
       "    </tr>\n",
       "    <tr>\n",
       "      <th>4</th>\n",
       "      <td>850</td>\n",
       "      <td>Spain</td>\n",
       "      <td>Female</td>\n",
       "      <td>43</td>\n",
       "      <td>2</td>\n",
       "      <td>125510.82</td>\n",
       "      <td>1</td>\n",
       "      <td>1</td>\n",
       "      <td>1</td>\n",
       "      <td>79084.10</td>\n",
       "      <td>0</td>\n",
       "      <td>(40, 50]</td>\n",
       "      <td>(120000.0, 130000.0]</td>\n",
       "      <td>(70000, 80000]</td>\n",
       "    </tr>\n",
       "  </tbody>\n",
       "</table>\n",
       "</div>"
      ],
      "text/plain": [
       "   CreditScore Geography  Gender  Age  Tenure    Balance  NumOfProducts  \\\n",
       "0          619    France  Female   42       2       0.00              1   \n",
       "1          608     Spain  Female   41       1   83807.86              1   \n",
       "2          502    France  Female   42       8  159660.80              3   \n",
       "3          699    France  Female   39       1       0.00              2   \n",
       "4          850     Spain  Female   43       2  125510.82              1   \n",
       "\n",
       "   HasCrCard  IsActiveMember  EstimatedSalary  Exited age_inerval  \\\n",
       "0          1               1        101348.88       1    (40, 50]   \n",
       "1          0               1        112542.58       0    (40, 50]   \n",
       "2          1               0        113931.57       1    (40, 50]   \n",
       "3          0               0         93826.63       0    (30, 40]   \n",
       "4          1               1         79084.10       0    (40, 50]   \n",
       "\n",
       "       Balance_interval age_EstimatedSalary  \n",
       "0                   NaN    (100000, 110000]  \n",
       "1    (80000.0, 90000.0]    (110000, 120000]  \n",
       "2  (150000.0, 160000.0]    (110000, 120000]  \n",
       "3                   NaN     (90000, 100000]  \n",
       "4  (120000.0, 130000.0]      (70000, 80000]  "
      ]
     },
     "execution_count": 54,
     "metadata": {},
     "output_type": "execute_result"
    }
   ],
   "source": [
    "df.head()"
   ]
  },
  {
   "cell_type": "code",
   "execution_count": 55,
   "metadata": {},
   "outputs": [
    {
     "data": {
      "text/html": [
       "<div>\n",
       "<style scoped>\n",
       "    .dataframe tbody tr th:only-of-type {\n",
       "        vertical-align: middle;\n",
       "    }\n",
       "\n",
       "    .dataframe tbody tr th {\n",
       "        vertical-align: top;\n",
       "    }\n",
       "\n",
       "    .dataframe thead th {\n",
       "        text-align: right;\n",
       "    }\n",
       "</style>\n",
       "<table border=\"1\" class=\"dataframe\">\n",
       "  <thead>\n",
       "    <tr style=\"text-align: right;\">\n",
       "      <th></th>\n",
       "      <th>CreditScore</th>\n",
       "      <th>Geography</th>\n",
       "      <th>Gender</th>\n",
       "      <th>Age</th>\n",
       "      <th>Tenure</th>\n",
       "      <th>Balance</th>\n",
       "      <th>NumOfProducts</th>\n",
       "      <th>HasCrCard</th>\n",
       "      <th>IsActiveMember</th>\n",
       "      <th>EstimatedSalary</th>\n",
       "      <th>Exited</th>\n",
       "    </tr>\n",
       "  </thead>\n",
       "  <tbody>\n",
       "    <tr>\n",
       "      <th>0</th>\n",
       "      <td>619</td>\n",
       "      <td>France</td>\n",
       "      <td>Female</td>\n",
       "      <td>42</td>\n",
       "      <td>2</td>\n",
       "      <td>0.00</td>\n",
       "      <td>1</td>\n",
       "      <td>1</td>\n",
       "      <td>1</td>\n",
       "      <td>101348.88</td>\n",
       "      <td>1</td>\n",
       "    </tr>\n",
       "    <tr>\n",
       "      <th>1</th>\n",
       "      <td>608</td>\n",
       "      <td>Spain</td>\n",
       "      <td>Female</td>\n",
       "      <td>41</td>\n",
       "      <td>1</td>\n",
       "      <td>83807.86</td>\n",
       "      <td>1</td>\n",
       "      <td>0</td>\n",
       "      <td>1</td>\n",
       "      <td>112542.58</td>\n",
       "      <td>0</td>\n",
       "    </tr>\n",
       "    <tr>\n",
       "      <th>2</th>\n",
       "      <td>502</td>\n",
       "      <td>France</td>\n",
       "      <td>Female</td>\n",
       "      <td>42</td>\n",
       "      <td>8</td>\n",
       "      <td>159660.80</td>\n",
       "      <td>3</td>\n",
       "      <td>1</td>\n",
       "      <td>0</td>\n",
       "      <td>113931.57</td>\n",
       "      <td>1</td>\n",
       "    </tr>\n",
       "    <tr>\n",
       "      <th>3</th>\n",
       "      <td>699</td>\n",
       "      <td>France</td>\n",
       "      <td>Female</td>\n",
       "      <td>39</td>\n",
       "      <td>1</td>\n",
       "      <td>0.00</td>\n",
       "      <td>2</td>\n",
       "      <td>0</td>\n",
       "      <td>0</td>\n",
       "      <td>93826.63</td>\n",
       "      <td>0</td>\n",
       "    </tr>\n",
       "    <tr>\n",
       "      <th>4</th>\n",
       "      <td>850</td>\n",
       "      <td>Spain</td>\n",
       "      <td>Female</td>\n",
       "      <td>43</td>\n",
       "      <td>2</td>\n",
       "      <td>125510.82</td>\n",
       "      <td>1</td>\n",
       "      <td>1</td>\n",
       "      <td>1</td>\n",
       "      <td>79084.10</td>\n",
       "      <td>0</td>\n",
       "    </tr>\n",
       "    <tr>\n",
       "      <th>...</th>\n",
       "      <td>...</td>\n",
       "      <td>...</td>\n",
       "      <td>...</td>\n",
       "      <td>...</td>\n",
       "      <td>...</td>\n",
       "      <td>...</td>\n",
       "      <td>...</td>\n",
       "      <td>...</td>\n",
       "      <td>...</td>\n",
       "      <td>...</td>\n",
       "      <td>...</td>\n",
       "    </tr>\n",
       "    <tr>\n",
       "      <th>9995</th>\n",
       "      <td>771</td>\n",
       "      <td>France</td>\n",
       "      <td>Male</td>\n",
       "      <td>39</td>\n",
       "      <td>5</td>\n",
       "      <td>0.00</td>\n",
       "      <td>2</td>\n",
       "      <td>1</td>\n",
       "      <td>0</td>\n",
       "      <td>96270.64</td>\n",
       "      <td>0</td>\n",
       "    </tr>\n",
       "    <tr>\n",
       "      <th>9996</th>\n",
       "      <td>516</td>\n",
       "      <td>France</td>\n",
       "      <td>Male</td>\n",
       "      <td>35</td>\n",
       "      <td>10</td>\n",
       "      <td>57369.61</td>\n",
       "      <td>1</td>\n",
       "      <td>1</td>\n",
       "      <td>1</td>\n",
       "      <td>101699.77</td>\n",
       "      <td>0</td>\n",
       "    </tr>\n",
       "    <tr>\n",
       "      <th>9997</th>\n",
       "      <td>709</td>\n",
       "      <td>France</td>\n",
       "      <td>Female</td>\n",
       "      <td>36</td>\n",
       "      <td>7</td>\n",
       "      <td>0.00</td>\n",
       "      <td>1</td>\n",
       "      <td>0</td>\n",
       "      <td>1</td>\n",
       "      <td>42085.58</td>\n",
       "      <td>1</td>\n",
       "    </tr>\n",
       "    <tr>\n",
       "      <th>9998</th>\n",
       "      <td>772</td>\n",
       "      <td>Germany</td>\n",
       "      <td>Male</td>\n",
       "      <td>42</td>\n",
       "      <td>3</td>\n",
       "      <td>75075.31</td>\n",
       "      <td>2</td>\n",
       "      <td>1</td>\n",
       "      <td>0</td>\n",
       "      <td>92888.52</td>\n",
       "      <td>1</td>\n",
       "    </tr>\n",
       "    <tr>\n",
       "      <th>9999</th>\n",
       "      <td>792</td>\n",
       "      <td>France</td>\n",
       "      <td>Female</td>\n",
       "      <td>28</td>\n",
       "      <td>4</td>\n",
       "      <td>130142.79</td>\n",
       "      <td>1</td>\n",
       "      <td>1</td>\n",
       "      <td>0</td>\n",
       "      <td>38190.78</td>\n",
       "      <td>0</td>\n",
       "    </tr>\n",
       "  </tbody>\n",
       "</table>\n",
       "<p>10000 rows × 11 columns</p>\n",
       "</div>"
      ],
      "text/plain": [
       "      CreditScore Geography  Gender  Age  Tenure    Balance  NumOfProducts  \\\n",
       "0             619    France  Female   42       2       0.00              1   \n",
       "1             608     Spain  Female   41       1   83807.86              1   \n",
       "2             502    France  Female   42       8  159660.80              3   \n",
       "3             699    France  Female   39       1       0.00              2   \n",
       "4             850     Spain  Female   43       2  125510.82              1   \n",
       "...           ...       ...     ...  ...     ...        ...            ...   \n",
       "9995          771    France    Male   39       5       0.00              2   \n",
       "9996          516    France    Male   35      10   57369.61              1   \n",
       "9997          709    France  Female   36       7       0.00              1   \n",
       "9998          772   Germany    Male   42       3   75075.31              2   \n",
       "9999          792    France  Female   28       4  130142.79              1   \n",
       "\n",
       "      HasCrCard  IsActiveMember  EstimatedSalary  Exited  \n",
       "0             1               1        101348.88       1  \n",
       "1             0               1        112542.58       0  \n",
       "2             1               0        113931.57       1  \n",
       "3             0               0         93826.63       0  \n",
       "4             1               1         79084.10       0  \n",
       "...         ...             ...              ...     ...  \n",
       "9995          1               0         96270.64       0  \n",
       "9996          1               1        101699.77       0  \n",
       "9997          0               1         42085.58       1  \n",
       "9998          1               0         92888.52       1  \n",
       "9999          1               0         38190.78       0  \n",
       "\n",
       "[10000 rows x 11 columns]"
      ]
     },
     "execution_count": 55,
     "metadata": {},
     "output_type": "execute_result"
    }
   ],
   "source": [
    "df1=df.drop([\"age_inerval\",\"Balance_interval\",\"age_EstimatedSalary\"],axis=1)\n",
    "df1"
   ]
  },
  {
   "cell_type": "code",
   "execution_count": 56,
   "metadata": {},
   "outputs": [
    {
     "data": {
      "text/html": [
       "<div>\n",
       "<style scoped>\n",
       "    .dataframe tbody tr th:only-of-type {\n",
       "        vertical-align: middle;\n",
       "    }\n",
       "\n",
       "    .dataframe tbody tr th {\n",
       "        vertical-align: top;\n",
       "    }\n",
       "\n",
       "    .dataframe thead th {\n",
       "        text-align: right;\n",
       "    }\n",
       "</style>\n",
       "<table border=\"1\" class=\"dataframe\">\n",
       "  <thead>\n",
       "    <tr style=\"text-align: right;\">\n",
       "      <th></th>\n",
       "      <th>CreditScore</th>\n",
       "      <th>Geography</th>\n",
       "      <th>Gender</th>\n",
       "      <th>Age</th>\n",
       "      <th>Tenure</th>\n",
       "      <th>Balance</th>\n",
       "      <th>NumOfProducts</th>\n",
       "      <th>HasCrCard</th>\n",
       "      <th>IsActiveMember</th>\n",
       "      <th>EstimatedSalary</th>\n",
       "      <th>Exited</th>\n",
       "    </tr>\n",
       "  </thead>\n",
       "  <tbody>\n",
       "    <tr>\n",
       "      <th>0</th>\n",
       "      <td>619</td>\n",
       "      <td>France</td>\n",
       "      <td>Female</td>\n",
       "      <td>42</td>\n",
       "      <td>2</td>\n",
       "      <td>0.00</td>\n",
       "      <td>1</td>\n",
       "      <td>1</td>\n",
       "      <td>1</td>\n",
       "      <td>101348.88</td>\n",
       "      <td>1</td>\n",
       "    </tr>\n",
       "    <tr>\n",
       "      <th>1</th>\n",
       "      <td>608</td>\n",
       "      <td>Spain</td>\n",
       "      <td>Female</td>\n",
       "      <td>41</td>\n",
       "      <td>1</td>\n",
       "      <td>83807.86</td>\n",
       "      <td>1</td>\n",
       "      <td>0</td>\n",
       "      <td>1</td>\n",
       "      <td>112542.58</td>\n",
       "      <td>0</td>\n",
       "    </tr>\n",
       "    <tr>\n",
       "      <th>2</th>\n",
       "      <td>502</td>\n",
       "      <td>France</td>\n",
       "      <td>Female</td>\n",
       "      <td>42</td>\n",
       "      <td>8</td>\n",
       "      <td>159660.80</td>\n",
       "      <td>3</td>\n",
       "      <td>1</td>\n",
       "      <td>0</td>\n",
       "      <td>113931.57</td>\n",
       "      <td>1</td>\n",
       "    </tr>\n",
       "    <tr>\n",
       "      <th>3</th>\n",
       "      <td>699</td>\n",
       "      <td>France</td>\n",
       "      <td>Female</td>\n",
       "      <td>39</td>\n",
       "      <td>1</td>\n",
       "      <td>0.00</td>\n",
       "      <td>2</td>\n",
       "      <td>0</td>\n",
       "      <td>0</td>\n",
       "      <td>93826.63</td>\n",
       "      <td>0</td>\n",
       "    </tr>\n",
       "    <tr>\n",
       "      <th>4</th>\n",
       "      <td>850</td>\n",
       "      <td>Spain</td>\n",
       "      <td>Female</td>\n",
       "      <td>43</td>\n",
       "      <td>2</td>\n",
       "      <td>125510.82</td>\n",
       "      <td>1</td>\n",
       "      <td>1</td>\n",
       "      <td>1</td>\n",
       "      <td>79084.10</td>\n",
       "      <td>0</td>\n",
       "    </tr>\n",
       "  </tbody>\n",
       "</table>\n",
       "</div>"
      ],
      "text/plain": [
       "   CreditScore Geography  Gender  Age  Tenure    Balance  NumOfProducts  \\\n",
       "0          619    France  Female   42       2       0.00              1   \n",
       "1          608     Spain  Female   41       1   83807.86              1   \n",
       "2          502    France  Female   42       8  159660.80              3   \n",
       "3          699    France  Female   39       1       0.00              2   \n",
       "4          850     Spain  Female   43       2  125510.82              1   \n",
       "\n",
       "   HasCrCard  IsActiveMember  EstimatedSalary  Exited  \n",
       "0          1               1        101348.88       1  \n",
       "1          0               1        112542.58       0  \n",
       "2          1               0        113931.57       1  \n",
       "3          0               0         93826.63       0  \n",
       "4          1               1         79084.10       0  "
      ]
     },
     "execution_count": 56,
     "metadata": {},
     "output_type": "execute_result"
    }
   ],
   "source": [
    "df1.head()"
   ]
  },
  {
   "cell_type": "code",
   "execution_count": 57,
   "metadata": {},
   "outputs": [],
   "source": [
    "# Convert categorical into dummies varible using get_dummies function.\n",
    "df1=pd.get_dummies(data=df1,columns=[\"Geography\",\"Gender\",\"Tenure\",\"NumOfProducts\"])"
   ]
  },
  {
   "cell_type": "code",
   "execution_count": 58,
   "metadata": {},
   "outputs": [],
   "source": [
    "# Scale the following numerical varible.each column has diffrent scale.\n",
    "# Age,CreditScore,Balance,EstimatedSalary"
   ]
  },
  {
   "cell_type": "code",
   "execution_count": 59,
   "metadata": {},
   "outputs": [],
   "source": [
    "# Using minimax scaler function here we scale numerical columns."
   ]
  },
  {
   "cell_type": "code",
   "execution_count": 60,
   "metadata": {},
   "outputs": [],
   "source": [
    "col_scale=[\"Age\",\"CreditScore\",\"Balance\",\"EstimatedSalary\"]\n",
    "from sklearn.preprocessing import MinMaxScaler\n",
    "scaler=MinMaxScaler()"
   ]
  },
  {
   "cell_type": "code",
   "execution_count": 61,
   "metadata": {},
   "outputs": [],
   "source": [
    "df1[col_scale] = scaler.fit_transform(df1[col_scale])"
   ]
  },
  {
   "cell_type": "code",
   "execution_count": 62,
   "metadata": {},
   "outputs": [
    {
     "data": {
      "text/html": [
       "<div>\n",
       "<style scoped>\n",
       "    .dataframe tbody tr th:only-of-type {\n",
       "        vertical-align: middle;\n",
       "    }\n",
       "\n",
       "    .dataframe tbody tr th {\n",
       "        vertical-align: top;\n",
       "    }\n",
       "\n",
       "    .dataframe thead th {\n",
       "        text-align: right;\n",
       "    }\n",
       "</style>\n",
       "<table border=\"1\" class=\"dataframe\">\n",
       "  <thead>\n",
       "    <tr style=\"text-align: right;\">\n",
       "      <th></th>\n",
       "      <th>CreditScore</th>\n",
       "      <th>Age</th>\n",
       "      <th>Balance</th>\n",
       "      <th>HasCrCard</th>\n",
       "      <th>IsActiveMember</th>\n",
       "      <th>EstimatedSalary</th>\n",
       "      <th>Exited</th>\n",
       "      <th>Geography_France</th>\n",
       "      <th>Geography_Germany</th>\n",
       "      <th>Geography_Spain</th>\n",
       "      <th>...</th>\n",
       "      <th>Tenure_5</th>\n",
       "      <th>Tenure_6</th>\n",
       "      <th>Tenure_7</th>\n",
       "      <th>Tenure_8</th>\n",
       "      <th>Tenure_9</th>\n",
       "      <th>Tenure_10</th>\n",
       "      <th>NumOfProducts_1</th>\n",
       "      <th>NumOfProducts_2</th>\n",
       "      <th>NumOfProducts_3</th>\n",
       "      <th>NumOfProducts_4</th>\n",
       "    </tr>\n",
       "  </thead>\n",
       "  <tbody>\n",
       "    <tr>\n",
       "      <th>0</th>\n",
       "      <td>0.538</td>\n",
       "      <td>0.324324</td>\n",
       "      <td>0.000000</td>\n",
       "      <td>1</td>\n",
       "      <td>1</td>\n",
       "      <td>0.506735</td>\n",
       "      <td>1</td>\n",
       "      <td>1</td>\n",
       "      <td>0</td>\n",
       "      <td>0</td>\n",
       "      <td>...</td>\n",
       "      <td>0</td>\n",
       "      <td>0</td>\n",
       "      <td>0</td>\n",
       "      <td>0</td>\n",
       "      <td>0</td>\n",
       "      <td>0</td>\n",
       "      <td>1</td>\n",
       "      <td>0</td>\n",
       "      <td>0</td>\n",
       "      <td>0</td>\n",
       "    </tr>\n",
       "    <tr>\n",
       "      <th>1</th>\n",
       "      <td>0.516</td>\n",
       "      <td>0.310811</td>\n",
       "      <td>0.334031</td>\n",
       "      <td>0</td>\n",
       "      <td>1</td>\n",
       "      <td>0.562709</td>\n",
       "      <td>0</td>\n",
       "      <td>0</td>\n",
       "      <td>0</td>\n",
       "      <td>1</td>\n",
       "      <td>...</td>\n",
       "      <td>0</td>\n",
       "      <td>0</td>\n",
       "      <td>0</td>\n",
       "      <td>0</td>\n",
       "      <td>0</td>\n",
       "      <td>0</td>\n",
       "      <td>1</td>\n",
       "      <td>0</td>\n",
       "      <td>0</td>\n",
       "      <td>0</td>\n",
       "    </tr>\n",
       "    <tr>\n",
       "      <th>2</th>\n",
       "      <td>0.304</td>\n",
       "      <td>0.324324</td>\n",
       "      <td>0.636357</td>\n",
       "      <td>1</td>\n",
       "      <td>0</td>\n",
       "      <td>0.569654</td>\n",
       "      <td>1</td>\n",
       "      <td>1</td>\n",
       "      <td>0</td>\n",
       "      <td>0</td>\n",
       "      <td>...</td>\n",
       "      <td>0</td>\n",
       "      <td>0</td>\n",
       "      <td>0</td>\n",
       "      <td>1</td>\n",
       "      <td>0</td>\n",
       "      <td>0</td>\n",
       "      <td>0</td>\n",
       "      <td>0</td>\n",
       "      <td>1</td>\n",
       "      <td>0</td>\n",
       "    </tr>\n",
       "    <tr>\n",
       "      <th>3</th>\n",
       "      <td>0.698</td>\n",
       "      <td>0.283784</td>\n",
       "      <td>0.000000</td>\n",
       "      <td>0</td>\n",
       "      <td>0</td>\n",
       "      <td>0.469120</td>\n",
       "      <td>0</td>\n",
       "      <td>1</td>\n",
       "      <td>0</td>\n",
       "      <td>0</td>\n",
       "      <td>...</td>\n",
       "      <td>0</td>\n",
       "      <td>0</td>\n",
       "      <td>0</td>\n",
       "      <td>0</td>\n",
       "      <td>0</td>\n",
       "      <td>0</td>\n",
       "      <td>0</td>\n",
       "      <td>1</td>\n",
       "      <td>0</td>\n",
       "      <td>0</td>\n",
       "    </tr>\n",
       "    <tr>\n",
       "      <th>4</th>\n",
       "      <td>1.000</td>\n",
       "      <td>0.337838</td>\n",
       "      <td>0.500246</td>\n",
       "      <td>1</td>\n",
       "      <td>1</td>\n",
       "      <td>0.395400</td>\n",
       "      <td>0</td>\n",
       "      <td>0</td>\n",
       "      <td>0</td>\n",
       "      <td>1</td>\n",
       "      <td>...</td>\n",
       "      <td>0</td>\n",
       "      <td>0</td>\n",
       "      <td>0</td>\n",
       "      <td>0</td>\n",
       "      <td>0</td>\n",
       "      <td>0</td>\n",
       "      <td>1</td>\n",
       "      <td>0</td>\n",
       "      <td>0</td>\n",
       "      <td>0</td>\n",
       "    </tr>\n",
       "  </tbody>\n",
       "</table>\n",
       "<p>5 rows × 27 columns</p>\n",
       "</div>"
      ],
      "text/plain": [
       "   CreditScore       Age   Balance  HasCrCard  IsActiveMember  \\\n",
       "0        0.538  0.324324  0.000000          1               1   \n",
       "1        0.516  0.310811  0.334031          0               1   \n",
       "2        0.304  0.324324  0.636357          1               0   \n",
       "3        0.698  0.283784  0.000000          0               0   \n",
       "4        1.000  0.337838  0.500246          1               1   \n",
       "\n",
       "   EstimatedSalary  Exited  Geography_France  Geography_Germany  \\\n",
       "0         0.506735       1                 1                  0   \n",
       "1         0.562709       0                 0                  0   \n",
       "2         0.569654       1                 1                  0   \n",
       "3         0.469120       0                 1                  0   \n",
       "4         0.395400       0                 0                  0   \n",
       "\n",
       "   Geography_Spain  ...  Tenure_5  Tenure_6  Tenure_7  Tenure_8  Tenure_9  \\\n",
       "0                0  ...         0         0         0         0         0   \n",
       "1                1  ...         0         0         0         0         0   \n",
       "2                0  ...         0         0         0         1         0   \n",
       "3                0  ...         0         0         0         0         0   \n",
       "4                1  ...         0         0         0         0         0   \n",
       "\n",
       "   Tenure_10  NumOfProducts_1  NumOfProducts_2  NumOfProducts_3  \\\n",
       "0          0                1                0                0   \n",
       "1          0                1                0                0   \n",
       "2          0                0                0                1   \n",
       "3          0                0                1                0   \n",
       "4          0                1                0                0   \n",
       "\n",
       "   NumOfProducts_4  \n",
       "0                0  \n",
       "1                0  \n",
       "2                0  \n",
       "3                0  \n",
       "4                0  \n",
       "\n",
       "[5 rows x 27 columns]"
      ]
     },
     "execution_count": 62,
     "metadata": {},
     "output_type": "execute_result"
    }
   ],
   "source": [
    "df1.head()"
   ]
  },
  {
   "cell_type": "code",
   "execution_count": 63,
   "metadata": {},
   "outputs": [
    {
     "data": {
      "text/html": [
       "<div>\n",
       "<style scoped>\n",
       "    .dataframe tbody tr th:only-of-type {\n",
       "        vertical-align: middle;\n",
       "    }\n",
       "\n",
       "    .dataframe tbody tr th {\n",
       "        vertical-align: top;\n",
       "    }\n",
       "\n",
       "    .dataframe thead th {\n",
       "        text-align: right;\n",
       "    }\n",
       "</style>\n",
       "<table border=\"1\" class=\"dataframe\">\n",
       "  <thead>\n",
       "    <tr style=\"text-align: right;\">\n",
       "      <th></th>\n",
       "      <th>CreditScore</th>\n",
       "      <th>Age</th>\n",
       "      <th>Balance</th>\n",
       "      <th>HasCrCard</th>\n",
       "      <th>IsActiveMember</th>\n",
       "      <th>EstimatedSalary</th>\n",
       "      <th>Exited</th>\n",
       "      <th>Geography_France</th>\n",
       "      <th>Geography_Germany</th>\n",
       "      <th>Geography_Spain</th>\n",
       "      <th>...</th>\n",
       "      <th>Tenure_5</th>\n",
       "      <th>Tenure_6</th>\n",
       "      <th>Tenure_7</th>\n",
       "      <th>Tenure_8</th>\n",
       "      <th>Tenure_9</th>\n",
       "      <th>Tenure_10</th>\n",
       "      <th>NumOfProducts_1</th>\n",
       "      <th>NumOfProducts_2</th>\n",
       "      <th>NumOfProducts_3</th>\n",
       "      <th>NumOfProducts_4</th>\n",
       "    </tr>\n",
       "  </thead>\n",
       "  <tbody>\n",
       "    <tr>\n",
       "      <th>9995</th>\n",
       "      <td>0.842</td>\n",
       "      <td>0.283784</td>\n",
       "      <td>0.000000</td>\n",
       "      <td>1</td>\n",
       "      <td>0</td>\n",
       "      <td>0.481341</td>\n",
       "      <td>0</td>\n",
       "      <td>1</td>\n",
       "      <td>0</td>\n",
       "      <td>0</td>\n",
       "      <td>...</td>\n",
       "      <td>1</td>\n",
       "      <td>0</td>\n",
       "      <td>0</td>\n",
       "      <td>0</td>\n",
       "      <td>0</td>\n",
       "      <td>0</td>\n",
       "      <td>0</td>\n",
       "      <td>1</td>\n",
       "      <td>0</td>\n",
       "      <td>0</td>\n",
       "    </tr>\n",
       "    <tr>\n",
       "      <th>9996</th>\n",
       "      <td>0.332</td>\n",
       "      <td>0.229730</td>\n",
       "      <td>0.228657</td>\n",
       "      <td>1</td>\n",
       "      <td>1</td>\n",
       "      <td>0.508490</td>\n",
       "      <td>0</td>\n",
       "      <td>1</td>\n",
       "      <td>0</td>\n",
       "      <td>0</td>\n",
       "      <td>...</td>\n",
       "      <td>0</td>\n",
       "      <td>0</td>\n",
       "      <td>0</td>\n",
       "      <td>0</td>\n",
       "      <td>0</td>\n",
       "      <td>1</td>\n",
       "      <td>1</td>\n",
       "      <td>0</td>\n",
       "      <td>0</td>\n",
       "      <td>0</td>\n",
       "    </tr>\n",
       "    <tr>\n",
       "      <th>9997</th>\n",
       "      <td>0.718</td>\n",
       "      <td>0.243243</td>\n",
       "      <td>0.000000</td>\n",
       "      <td>0</td>\n",
       "      <td>1</td>\n",
       "      <td>0.210390</td>\n",
       "      <td>1</td>\n",
       "      <td>1</td>\n",
       "      <td>0</td>\n",
       "      <td>0</td>\n",
       "      <td>...</td>\n",
       "      <td>0</td>\n",
       "      <td>0</td>\n",
       "      <td>1</td>\n",
       "      <td>0</td>\n",
       "      <td>0</td>\n",
       "      <td>0</td>\n",
       "      <td>1</td>\n",
       "      <td>0</td>\n",
       "      <td>0</td>\n",
       "      <td>0</td>\n",
       "    </tr>\n",
       "    <tr>\n",
       "      <th>9998</th>\n",
       "      <td>0.844</td>\n",
       "      <td>0.324324</td>\n",
       "      <td>0.299226</td>\n",
       "      <td>1</td>\n",
       "      <td>0</td>\n",
       "      <td>0.464429</td>\n",
       "      <td>1</td>\n",
       "      <td>0</td>\n",
       "      <td>1</td>\n",
       "      <td>0</td>\n",
       "      <td>...</td>\n",
       "      <td>0</td>\n",
       "      <td>0</td>\n",
       "      <td>0</td>\n",
       "      <td>0</td>\n",
       "      <td>0</td>\n",
       "      <td>0</td>\n",
       "      <td>0</td>\n",
       "      <td>1</td>\n",
       "      <td>0</td>\n",
       "      <td>0</td>\n",
       "    </tr>\n",
       "    <tr>\n",
       "      <th>9999</th>\n",
       "      <td>0.884</td>\n",
       "      <td>0.135135</td>\n",
       "      <td>0.518708</td>\n",
       "      <td>1</td>\n",
       "      <td>0</td>\n",
       "      <td>0.190914</td>\n",
       "      <td>0</td>\n",
       "      <td>1</td>\n",
       "      <td>0</td>\n",
       "      <td>0</td>\n",
       "      <td>...</td>\n",
       "      <td>0</td>\n",
       "      <td>0</td>\n",
       "      <td>0</td>\n",
       "      <td>0</td>\n",
       "      <td>0</td>\n",
       "      <td>0</td>\n",
       "      <td>1</td>\n",
       "      <td>0</td>\n",
       "      <td>0</td>\n",
       "      <td>0</td>\n",
       "    </tr>\n",
       "  </tbody>\n",
       "</table>\n",
       "<p>5 rows × 27 columns</p>\n",
       "</div>"
      ],
      "text/plain": [
       "      CreditScore       Age   Balance  HasCrCard  IsActiveMember  \\\n",
       "9995        0.842  0.283784  0.000000          1               0   \n",
       "9996        0.332  0.229730  0.228657          1               1   \n",
       "9997        0.718  0.243243  0.000000          0               1   \n",
       "9998        0.844  0.324324  0.299226          1               0   \n",
       "9999        0.884  0.135135  0.518708          1               0   \n",
       "\n",
       "      EstimatedSalary  Exited  Geography_France  Geography_Germany  \\\n",
       "9995         0.481341       0                 1                  0   \n",
       "9996         0.508490       0                 1                  0   \n",
       "9997         0.210390       1                 1                  0   \n",
       "9998         0.464429       1                 0                  1   \n",
       "9999         0.190914       0                 1                  0   \n",
       "\n",
       "      Geography_Spain  ...  Tenure_5  Tenure_6  Tenure_7  Tenure_8  Tenure_9  \\\n",
       "9995                0  ...         1         0         0         0         0   \n",
       "9996                0  ...         0         0         0         0         0   \n",
       "9997                0  ...         0         0         1         0         0   \n",
       "9998                0  ...         0         0         0         0         0   \n",
       "9999                0  ...         0         0         0         0         0   \n",
       "\n",
       "      Tenure_10  NumOfProducts_1  NumOfProducts_2  NumOfProducts_3  \\\n",
       "9995          0                0                1                0   \n",
       "9996          1                1                0                0   \n",
       "9997          0                1                0                0   \n",
       "9998          0                0                1                0   \n",
       "9999          0                1                0                0   \n",
       "\n",
       "      NumOfProducts_4  \n",
       "9995                0  \n",
       "9996                0  \n",
       "9997                0  \n",
       "9998                0  \n",
       "9999                0  \n",
       "\n",
       "[5 rows x 27 columns]"
      ]
     },
     "execution_count": 63,
     "metadata": {},
     "output_type": "execute_result"
    }
   ],
   "source": [
    "df1.tail()"
   ]
  },
  {
   "cell_type": "code",
   "execution_count": 64,
   "metadata": {},
   "outputs": [],
   "source": [
    "X=df1.drop([\"Exited\"],axis=1)\n",
    "y=df1[\"Exited\"]"
   ]
  },
  {
   "cell_type": "code",
   "execution_count": 65,
   "metadata": {},
   "outputs": [
    {
     "name": "stdout",
     "output_type": "stream",
     "text": [
      "Before Applyiing SMOTE technique.\n"
     ]
    },
    {
     "data": {
      "text/plain": [
       "Counter({1: 2037, 0: 7963})"
      ]
     },
     "execution_count": 65,
     "metadata": {},
     "output_type": "execute_result"
    }
   ],
   "source": [
    "print(\"Before Applyiing SMOTE technique.\")\n",
    "Counter(y)"
   ]
  },
  {
   "cell_type": "code",
   "execution_count": 66,
   "metadata": {},
   "outputs": [],
   "source": [
    "# Here our data is imbalanced we need to conert it into balanced datatset."
   ]
  },
  {
   "cell_type": "code",
   "execution_count": 67,
   "metadata": {},
   "outputs": [],
   "source": [
    "sm = SMOTE(random_state=50)\n",
    "X_res, y_res = sm.fit_resample(X, y)"
   ]
  },
  {
   "cell_type": "code",
   "execution_count": 68,
   "metadata": {},
   "outputs": [
    {
     "name": "stdout",
     "output_type": "stream",
     "text": [
      "After Applyiing SMOTE technique.\n"
     ]
    },
    {
     "data": {
      "text/plain": [
       "Counter({1: 7963, 0: 7963})"
      ]
     },
     "execution_count": 68,
     "metadata": {},
     "output_type": "execute_result"
    }
   ],
   "source": [
    "# After applying smote technique \n",
    "print(\"After Applyiing SMOTE technique.\")\n",
    "Counter(y_res)\n",
    "# Now data is balanced "
   ]
  },
  {
   "cell_type": "code",
   "execution_count": 69,
   "metadata": {},
   "outputs": [],
   "source": [
    "## Split data into train and test dataset.\n",
    "X_train, X_test, y_train, y_test = train_test_split(X_res,y_res,test_size=0.3,random_state=5)"
   ]
  },
  {
   "cell_type": "code",
   "execution_count": 70,
   "metadata": {},
   "outputs": [
    {
     "data": {
      "text/plain": [
       "((11148, 26), (4778, 26))"
      ]
     },
     "execution_count": 70,
     "metadata": {},
     "output_type": "execute_result"
    }
   ],
   "source": [
    "X_train.shape,X_test.shape"
   ]
  },
  {
   "cell_type": "code",
   "execution_count": 71,
   "metadata": {},
   "outputs": [
    {
     "data": {
      "text/plain": [
       "((11148,), (4778,))"
      ]
     },
     "execution_count": 71,
     "metadata": {},
     "output_type": "execute_result"
    }
   ],
   "source": [
    "y_train.shape,y_test.shape"
   ]
  },
  {
   "cell_type": "markdown",
   "metadata": {},
   "source": [
    "## Build NN model "
   ]
  },
  {
   "cell_type": "code",
   "execution_count": 72,
   "metadata": {},
   "outputs": [],
   "source": [
    "from keras.models import Sequential\n",
    "from keras.layers import Dense, Dropout"
   ]
  },
  {
   "cell_type": "code",
   "execution_count": 73,
   "metadata": {},
   "outputs": [],
   "source": [
    "model=Sequential()\n",
    "# Add Dense layer \n",
    "model.add(Dense(64,input_shape=(26,),activation='relu'))\n",
    "\n",
    "# add anther dense layer \n",
    "model.add(Dense(32, activation='relu'))\n",
    "\n",
    "# add anther dense layer \n",
    "model.add(Dense(16, activation='relu'))\n",
    "\n",
    "# Add last layer of NN\n",
    "model.add(Dense(1,activation=\"sigmoid\"))\n",
    "\n",
    "# comlile model \n",
    "model.compile(optimizer=\"adam\",loss='binary_crossentropy',metrics=['accuracy'])"
   ]
  },
  {
   "cell_type": "code",
   "execution_count": 74,
   "metadata": {},
   "outputs": [
    {
     "name": "stdout",
     "output_type": "stream",
     "text": [
      "Model: \"sequential\"\n",
      "_________________________________________________________________\n",
      "Layer (type)                 Output Shape              Param #   \n",
      "=================================================================\n",
      "dense (Dense)                (None, 64)                1728      \n",
      "_________________________________________________________________\n",
      "dense_1 (Dense)              (None, 32)                2080      \n",
      "_________________________________________________________________\n",
      "dense_2 (Dense)              (None, 16)                528       \n",
      "_________________________________________________________________\n",
      "dense_3 (Dense)              (None, 1)                 17        \n",
      "=================================================================\n",
      "Total params: 4,353\n",
      "Trainable params: 4,353\n",
      "Non-trainable params: 0\n",
      "_________________________________________________________________\n"
     ]
    }
   ],
   "source": [
    "model.summary()"
   ]
  },
  {
   "cell_type": "code",
   "execution_count": 75,
   "metadata": {},
   "outputs": [
    {
     "name": "stdout",
     "output_type": "stream",
     "text": [
      "Epoch 1/50\n",
      "11148/11148 [==============================] - 11s 1ms/step - loss: 0.4982 - accuracy: 0.7557\n",
      "Epoch 2/50\n",
      "11148/11148 [==============================] - 11s 1ms/step - loss: 0.4408 - accuracy: 0.7951\n",
      "Epoch 3/50\n",
      "11148/11148 [==============================] - 11s 1ms/step - loss: 0.4157 - accuracy: 0.8061\n",
      "Epoch 4/50\n",
      "11148/11148 [==============================] - 11s 1ms/step - loss: 0.4001 - accuracy: 0.8172\n",
      "Epoch 5/50\n",
      "11148/11148 [==============================] - 12s 1ms/step - loss: 0.3908 - accuracy: 0.8219\n",
      "Epoch 6/50\n",
      "11148/11148 [==============================] - 12s 1ms/step - loss: 0.3818 - accuracy: 0.8267\n",
      "Epoch 7/50\n",
      "11148/11148 [==============================] - 11s 1ms/step - loss: 0.3723 - accuracy: 0.8358\n",
      "Epoch 8/50\n",
      "11148/11148 [==============================] - 11s 1ms/step - loss: 0.3656 - accuracy: 0.8344\n",
      "Epoch 9/50\n",
      "11148/11148 [==============================] - 11s 1ms/step - loss: 0.3580 - accuracy: 0.8439\n",
      "Epoch 10/50\n",
      "11148/11148 [==============================] - 12s 1ms/step - loss: 0.3521 - accuracy: 0.8443\n",
      "Epoch 11/50\n",
      "11148/11148 [==============================] - 12s 1ms/step - loss: 0.3464 - accuracy: 0.8444\n",
      "Epoch 12/50\n",
      "11148/11148 [==============================] - 12s 1ms/step - loss: 0.3402 - accuracy: 0.8508\n",
      "Epoch 13/50\n",
      "11148/11148 [==============================] - 11s 1ms/step - loss: 0.3330 - accuracy: 0.8547\n",
      "Epoch 14/50\n",
      "11148/11148 [==============================] - 12s 1ms/step - loss: 0.3272 - accuracy: 0.8551\n",
      "Epoch 15/50\n",
      "11148/11148 [==============================] - 12s 1ms/step - loss: 0.3230 - accuracy: 0.8628\n",
      "Epoch 16/50\n",
      "11148/11148 [==============================] - 12s 1ms/step - loss: 0.3206 - accuracy: 0.8603\n",
      "Epoch 17/50\n",
      "11148/11148 [==============================] - 12s 1ms/step - loss: 0.3126 - accuracy: 0.8661\n",
      "Epoch 18/50\n",
      "11148/11148 [==============================] - 12s 1ms/step - loss: 0.3078 - accuracy: 0.8676\n",
      "Epoch 19/50\n",
      "11148/11148 [==============================] - 12s 1ms/step - loss: 0.3057 - accuracy: 0.8689\n",
      "Epoch 20/50\n",
      "11148/11148 [==============================] - 12s 1ms/step - loss: 0.2982 - accuracy: 0.8724\n",
      "Epoch 21/50\n",
      "11148/11148 [==============================] - 12s 1ms/step - loss: 0.2943 - accuracy: 0.8733\n",
      "Epoch 22/50\n",
      "11148/11148 [==============================] - 12s 1ms/step - loss: 0.2927 - accuracy: 0.8725\n",
      "Epoch 23/50\n",
      "11148/11148 [==============================] - 12s 1ms/step - loss: 0.2899 - accuracy: 0.8774\n",
      "Epoch 24/50\n",
      "11148/11148 [==============================] - 12s 1ms/step - loss: 0.2853 - accuracy: 0.8788\n",
      "Epoch 25/50\n",
      "11148/11148 [==============================] - 12s 1ms/step - loss: 0.2844 - accuracy: 0.8767\n",
      "Epoch 26/50\n",
      "11148/11148 [==============================] - 12s 1ms/step - loss: 0.2769 - accuracy: 0.8843\n",
      "Epoch 27/50\n",
      "11148/11148 [==============================] - 12s 1ms/step - loss: 0.2770 - accuracy: 0.8837\n",
      "Epoch 28/50\n",
      "11148/11148 [==============================] - 13s 1ms/step - loss: 0.2743 - accuracy: 0.8845\n",
      "Epoch 29/50\n",
      "11148/11148 [==============================] - 14s 1ms/step - loss: 0.2660 - accuracy: 0.8846\n",
      "Epoch 30/50\n",
      "11148/11148 [==============================] - 14s 1ms/step - loss: 0.2681 - accuracy: 0.8838\n",
      "Epoch 31/50\n",
      "11148/11148 [==============================] - 13s 1ms/step - loss: 0.2618 - accuracy: 0.8873\n",
      "Epoch 32/50\n",
      "11148/11148 [==============================] - 12s 1ms/step - loss: 0.2590 - accuracy: 0.8923\n",
      "Epoch 33/50\n",
      "11148/11148 [==============================] - 12s 1ms/step - loss: 0.2580 - accuracy: 0.8929\n",
      "Epoch 34/50\n",
      "11148/11148 [==============================] - 12s 1ms/step - loss: 0.2515 - accuracy: 0.8940\n",
      "Epoch 35/50\n",
      "11148/11148 [==============================] - 12s 1ms/step - loss: 0.2511 - accuracy: 0.8927\n",
      "Epoch 36/50\n",
      "11148/11148 [==============================] - 12s 1ms/step - loss: 0.2483 - accuracy: 0.8952\n",
      "Epoch 37/50\n",
      "11148/11148 [==============================] - 12s 1ms/step - loss: 0.2460 - accuracy: 0.8959\n",
      "Epoch 38/50\n",
      "11148/11148 [==============================] - 12s 1ms/step - loss: 0.2431 - accuracy: 0.8981\n",
      "Epoch 39/50\n",
      "11148/11148 [==============================] - 12s 1ms/step - loss: 0.2410 - accuracy: 0.8994\n",
      "Epoch 40/50\n",
      "11148/11148 [==============================] - 12s 1ms/step - loss: 0.2375 - accuracy: 0.9011\n",
      "Epoch 41/50\n",
      "11148/11148 [==============================] - 12s 1ms/step - loss: 0.2352 - accuracy: 0.8974\n",
      "Epoch 42/50\n",
      "11148/11148 [==============================] - 13s 1ms/step - loss: 0.2326 - accuracy: 0.9062\n",
      "Epoch 43/50\n",
      "11148/11148 [==============================] - 13s 1ms/step - loss: 0.2327 - accuracy: 0.9020\n",
      "Epoch 44/50\n",
      "11148/11148 [==============================] - 12s 1ms/step - loss: 0.2336 - accuracy: 0.9043\n",
      "Epoch 45/50\n",
      "11148/11148 [==============================] - 12s 1ms/step - loss: 0.2311 - accuracy: 0.9034\n",
      "Epoch 46/50\n",
      "11148/11148 [==============================] - 13s 1ms/step - loss: 0.2274 - accuracy: 0.9050\n",
      "Epoch 47/50\n",
      "11148/11148 [==============================] - 12s 1ms/step - loss: 0.2273 - accuracy: 0.9068\n",
      "Epoch 48/50\n",
      "11148/11148 [==============================] - 13s 1ms/step - loss: 0.2218 - accuracy: 0.9084\n",
      "Epoch 49/50\n",
      "11148/11148 [==============================] - 12s 1ms/step - loss: 0.2212 - accuracy: 0.9070\n",
      "Epoch 50/50\n",
      "11148/11148 [==============================] - 13s 1ms/step - loss: 0.2173 - accuracy: 0.9081\n"
     ]
    },
    {
     "data": {
      "text/plain": [
       "<tensorflow.python.keras.callbacks.History at 0x2d931069df0>"
      ]
     },
     "execution_count": 75,
     "metadata": {},
     "output_type": "execute_result"
    }
   ],
   "source": [
    "# Fit model on training dataset\n",
    "model.fit(X_train, y_train,batch_size=1,epochs=50)"
   ]
  },
  {
   "cell_type": "code",
   "execution_count": 76,
   "metadata": {},
   "outputs": [
    {
     "name": "stdout",
     "output_type": "stream",
     "text": [
      "150/150 [==============================] - 0s 971us/step - loss: 0.5085 - accuracy: 0.8489\n"
     ]
    },
    {
     "data": {
      "text/plain": [
       "[0.5085298418998718, 0.8488907217979431]"
      ]
     },
     "execution_count": 76,
     "metadata": {},
     "output_type": "execute_result"
    }
   ],
   "source": [
    "# Evlaute model on test data \n",
    "model.evaluate(X_test, y_test)"
   ]
  },
  {
   "cell_type": "code",
   "execution_count": 77,
   "metadata": {},
   "outputs": [
    {
     "data": {
      "text/plain": [
       "array([[3.0220079e-01],\n",
       "       [5.8580838e-07],\n",
       "       [4.7426522e-03],\n",
       "       ...,\n",
       "       [9.9635208e-01],\n",
       "       [1.0000000e+00],\n",
       "       [7.7963686e-01]], dtype=float32)"
      ]
     },
     "execution_count": 77,
     "metadata": {},
     "output_type": "execute_result"
    }
   ],
   "source": [
    "# Predict model on test data.\n",
    "predicted  = model.predict(X_test)\n",
    "predicted"
   ]
  },
  {
   "cell_type": "code",
   "execution_count": 78,
   "metadata": {},
   "outputs": [
    {
     "name": "stdout",
     "output_type": "stream",
     "text": [
      "--------------------------------------------\n",
      "--------------------------------------------\n",
      "threshold is 0.3\n",
      "              precision    recall  f1-score   support\n",
      "\n",
      "           0       0.90      0.77      0.83      2397\n",
      "           1       0.80      0.91      0.85      2381\n",
      "\n",
      "    accuracy                           0.84      4778\n",
      "   macro avg       0.85      0.84      0.84      4778\n",
      "weighted avg       0.85      0.84      0.84      4778\n",
      "\n",
      "--------------------------------------------\n",
      "--------------------------------------------\n",
      "threshold is 0.31\n",
      "              precision    recall  f1-score   support\n",
      "\n",
      "           0       0.90      0.77      0.83      2397\n",
      "           1       0.80      0.91      0.85      2381\n",
      "\n",
      "    accuracy                           0.84      4778\n",
      "   macro avg       0.85      0.84      0.84      4778\n",
      "weighted avg       0.85      0.84      0.84      4778\n",
      "\n",
      "--------------------------------------------\n",
      "--------------------------------------------\n",
      "threshold is 0.32\n",
      "              precision    recall  f1-score   support\n",
      "\n",
      "           0       0.90      0.77      0.83      2397\n",
      "           1       0.80      0.91      0.85      2381\n",
      "\n",
      "    accuracy                           0.84      4778\n",
      "   macro avg       0.85      0.84      0.84      4778\n",
      "weighted avg       0.85      0.84      0.84      4778\n",
      "\n",
      "--------------------------------------------\n",
      "--------------------------------------------\n",
      "threshold is 0.33\n",
      "              precision    recall  f1-score   support\n",
      "\n",
      "           0       0.89      0.78      0.83      2397\n",
      "           1       0.80      0.91      0.85      2381\n",
      "\n",
      "    accuracy                           0.84      4778\n",
      "   macro avg       0.85      0.84      0.84      4778\n",
      "weighted avg       0.85      0.84      0.84      4778\n",
      "\n",
      "--------------------------------------------\n",
      "--------------------------------------------\n",
      "threshold is 0.34\n",
      "              precision    recall  f1-score   support\n",
      "\n",
      "           0       0.89      0.78      0.83      2397\n",
      "           1       0.80      0.91      0.85      2381\n",
      "\n",
      "    accuracy                           0.84      4778\n",
      "   macro avg       0.85      0.84      0.84      4778\n",
      "weighted avg       0.85      0.84      0.84      4778\n",
      "\n",
      "--------------------------------------------\n",
      "--------------------------------------------\n",
      "threshold is 0.35000000000000003\n",
      "              precision    recall  f1-score   support\n",
      "\n",
      "           0       0.89      0.78      0.83      2397\n",
      "           1       0.81      0.90      0.85      2381\n",
      "\n",
      "    accuracy                           0.84      4778\n",
      "   macro avg       0.85      0.84      0.84      4778\n",
      "weighted avg       0.85      0.84      0.84      4778\n",
      "\n",
      "--------------------------------------------\n",
      "--------------------------------------------\n",
      "threshold is 0.36000000000000004\n",
      "              precision    recall  f1-score   support\n",
      "\n",
      "           0       0.89      0.79      0.83      2397\n",
      "           1       0.81      0.90      0.85      2381\n",
      "\n",
      "    accuracy                           0.84      4778\n",
      "   macro avg       0.85      0.84      0.84      4778\n",
      "weighted avg       0.85      0.84      0.84      4778\n",
      "\n",
      "--------------------------------------------\n",
      "--------------------------------------------\n",
      "threshold is 0.37000000000000005\n",
      "              precision    recall  f1-score   support\n",
      "\n",
      "           0       0.88      0.79      0.83      2397\n",
      "           1       0.81      0.90      0.85      2381\n",
      "\n",
      "    accuracy                           0.84      4778\n",
      "   macro avg       0.85      0.84      0.84      4778\n",
      "weighted avg       0.85      0.84      0.84      4778\n",
      "\n",
      "--------------------------------------------\n",
      "--------------------------------------------\n",
      "threshold is 0.38000000000000006\n",
      "              precision    recall  f1-score   support\n",
      "\n",
      "           0       0.88      0.79      0.83      2397\n",
      "           1       0.81      0.89      0.85      2381\n",
      "\n",
      "    accuracy                           0.84      4778\n",
      "   macro avg       0.85      0.84      0.84      4778\n",
      "weighted avg       0.85      0.84      0.84      4778\n",
      "\n",
      "--------------------------------------------\n",
      "--------------------------------------------\n",
      "threshold is 0.39000000000000007\n",
      "              precision    recall  f1-score   support\n",
      "\n",
      "           0       0.88      0.80      0.84      2397\n",
      "           1       0.81      0.89      0.85      2381\n",
      "\n",
      "    accuracy                           0.84      4778\n",
      "   macro avg       0.85      0.84      0.84      4778\n",
      "weighted avg       0.85      0.84      0.84      4778\n",
      "\n",
      "--------------------------------------------\n",
      "--------------------------------------------\n",
      "threshold is 0.4000000000000001\n",
      "              precision    recall  f1-score   support\n",
      "\n",
      "           0       0.88      0.80      0.84      2397\n",
      "           1       0.82      0.89      0.85      2381\n",
      "\n",
      "    accuracy                           0.85      4778\n",
      "   macro avg       0.85      0.85      0.85      4778\n",
      "weighted avg       0.85      0.85      0.85      4778\n",
      "\n",
      "--------------------------------------------\n",
      "--------------------------------------------\n",
      "threshold is 0.4100000000000001\n",
      "              precision    recall  f1-score   support\n",
      "\n",
      "           0       0.88      0.81      0.84      2397\n",
      "           1       0.82      0.89      0.85      2381\n",
      "\n",
      "    accuracy                           0.85      4778\n",
      "   macro avg       0.85      0.85      0.85      4778\n",
      "weighted avg       0.85      0.85      0.85      4778\n",
      "\n",
      "--------------------------------------------\n",
      "--------------------------------------------\n",
      "threshold is 0.4200000000000001\n",
      "              precision    recall  f1-score   support\n",
      "\n",
      "           0       0.88      0.81      0.84      2397\n",
      "           1       0.82      0.88      0.85      2381\n",
      "\n",
      "    accuracy                           0.85      4778\n",
      "   macro avg       0.85      0.85      0.85      4778\n",
      "weighted avg       0.85      0.85      0.85      4778\n",
      "\n",
      "--------------------------------------------\n",
      "--------------------------------------------\n",
      "threshold is 0.4300000000000001\n",
      "              precision    recall  f1-score   support\n",
      "\n",
      "           0       0.88      0.81      0.84      2397\n",
      "           1       0.82      0.88      0.85      2381\n",
      "\n",
      "    accuracy                           0.85      4778\n",
      "   macro avg       0.85      0.85      0.85      4778\n",
      "weighted avg       0.85      0.85      0.85      4778\n",
      "\n",
      "--------------------------------------------\n",
      "--------------------------------------------\n",
      "threshold is 0.4400000000000001\n",
      "              precision    recall  f1-score   support\n",
      "\n",
      "           0       0.87      0.82      0.84      2397\n",
      "           1       0.83      0.88      0.85      2381\n",
      "\n",
      "    accuracy                           0.85      4778\n",
      "   macro avg       0.85      0.85      0.85      4778\n",
      "weighted avg       0.85      0.85      0.85      4778\n",
      "\n",
      "--------------------------------------------\n",
      "--------------------------------------------\n",
      "threshold is 0.4500000000000001\n",
      "              precision    recall  f1-score   support\n",
      "\n",
      "           0       0.87      0.82      0.84      2397\n",
      "           1       0.83      0.88      0.85      2381\n",
      "\n",
      "    accuracy                           0.85      4778\n",
      "   macro avg       0.85      0.85      0.85      4778\n",
      "weighted avg       0.85      0.85      0.85      4778\n",
      "\n",
      "--------------------------------------------\n",
      "--------------------------------------------\n",
      "threshold is 0.46000000000000013\n",
      "              precision    recall  f1-score   support\n",
      "\n",
      "           0       0.87      0.82      0.85      2397\n",
      "           1       0.83      0.88      0.85      2381\n",
      "\n",
      "    accuracy                           0.85      4778\n",
      "   macro avg       0.85      0.85      0.85      4778\n",
      "weighted avg       0.85      0.85      0.85      4778\n",
      "\n",
      "--------------------------------------------\n",
      "--------------------------------------------\n",
      "threshold is 0.47000000000000014\n",
      "              precision    recall  f1-score   support\n",
      "\n",
      "           0       0.87      0.83      0.85      2397\n",
      "           1       0.83      0.87      0.85      2381\n",
      "\n",
      "    accuracy                           0.85      4778\n",
      "   macro avg       0.85      0.85      0.85      4778\n",
      "weighted avg       0.85      0.85      0.85      4778\n",
      "\n",
      "--------------------------------------------\n",
      "--------------------------------------------\n",
      "threshold is 0.48000000000000015\n",
      "              precision    recall  f1-score   support\n",
      "\n",
      "           0       0.86      0.83      0.85      2397\n",
      "           1       0.84      0.86      0.85      2381\n",
      "\n",
      "    accuracy                           0.85      4778\n",
      "   macro avg       0.85      0.85      0.85      4778\n",
      "weighted avg       0.85      0.85      0.85      4778\n",
      "\n",
      "--------------------------------------------\n",
      "--------------------------------------------\n",
      "threshold is 0.49000000000000016\n",
      "              precision    recall  f1-score   support\n",
      "\n",
      "           0       0.86      0.83      0.85      2397\n",
      "           1       0.84      0.86      0.85      2381\n",
      "\n",
      "    accuracy                           0.85      4778\n",
      "   macro avg       0.85      0.85      0.85      4778\n",
      "weighted avg       0.85      0.85      0.85      4778\n",
      "\n",
      "--------------------------------------------\n",
      "--------------------------------------------\n",
      "threshold is 0.5000000000000002\n",
      "              precision    recall  f1-score   support\n",
      "\n",
      "           0       0.86      0.84      0.85      2397\n",
      "           1       0.84      0.86      0.85      2381\n",
      "\n",
      "    accuracy                           0.85      4778\n",
      "   macro avg       0.85      0.85      0.85      4778\n",
      "weighted avg       0.85      0.85      0.85      4778\n",
      "\n",
      "--------------------------------------------\n",
      "--------------------------------------------\n",
      "threshold is 0.5100000000000002\n",
      "              precision    recall  f1-score   support\n",
      "\n",
      "           0       0.86      0.84      0.85      2397\n",
      "           1       0.84      0.86      0.85      2381\n",
      "\n",
      "    accuracy                           0.85      4778\n",
      "   macro avg       0.85      0.85      0.85      4778\n",
      "weighted avg       0.85      0.85      0.85      4778\n",
      "\n",
      "--------------------------------------------\n",
      "--------------------------------------------\n",
      "threshold is 0.5200000000000002\n",
      "              precision    recall  f1-score   support\n",
      "\n",
      "           0       0.85      0.84      0.85      2397\n",
      "           1       0.84      0.85      0.85      2381\n",
      "\n",
      "    accuracy                           0.85      4778\n",
      "   macro avg       0.85      0.85      0.85      4778\n",
      "weighted avg       0.85      0.85      0.85      4778\n",
      "\n",
      "--------------------------------------------\n",
      "--------------------------------------------\n",
      "threshold is 0.5300000000000002\n",
      "              precision    recall  f1-score   support\n",
      "\n",
      "           0       0.85      0.84      0.85      2397\n",
      "           1       0.84      0.85      0.85      2381\n",
      "\n",
      "    accuracy                           0.85      4778\n",
      "   macro avg       0.85      0.85      0.85      4778\n",
      "weighted avg       0.85      0.85      0.85      4778\n",
      "\n",
      "--------------------------------------------\n",
      "--------------------------------------------\n",
      "threshold is 0.5400000000000003\n",
      "              precision    recall  f1-score   support\n",
      "\n",
      "           0       0.85      0.84      0.85      2397\n",
      "           1       0.84      0.85      0.85      2381\n",
      "\n",
      "    accuracy                           0.85      4778\n",
      "   macro avg       0.85      0.85      0.85      4778\n",
      "weighted avg       0.85      0.85      0.85      4778\n",
      "\n",
      "--------------------------------------------\n",
      "--------------------------------------------\n",
      "threshold is 0.5500000000000003\n",
      "              precision    recall  f1-score   support\n",
      "\n",
      "           0       0.85      0.85      0.85      2397\n",
      "           1       0.85      0.85      0.85      2381\n",
      "\n",
      "    accuracy                           0.85      4778\n",
      "   macro avg       0.85      0.85      0.85      4778\n",
      "weighted avg       0.85      0.85      0.85      4778\n",
      "\n",
      "--------------------------------------------\n",
      "--------------------------------------------\n",
      "threshold is 0.5600000000000003\n"
     ]
    },
    {
     "name": "stdout",
     "output_type": "stream",
     "text": [
      "              precision    recall  f1-score   support\n",
      "\n",
      "           0       0.85      0.85      0.85      2397\n",
      "           1       0.85      0.84      0.85      2381\n",
      "\n",
      "    accuracy                           0.85      4778\n",
      "   macro avg       0.85      0.85      0.85      4778\n",
      "weighted avg       0.85      0.85      0.85      4778\n",
      "\n",
      "--------------------------------------------\n",
      "--------------------------------------------\n",
      "threshold is 0.5700000000000003\n",
      "              precision    recall  f1-score   support\n",
      "\n",
      "           0       0.84      0.85      0.85      2397\n",
      "           1       0.85      0.84      0.85      2381\n",
      "\n",
      "    accuracy                           0.85      4778\n",
      "   macro avg       0.85      0.85      0.85      4778\n",
      "weighted avg       0.85      0.85      0.85      4778\n",
      "\n",
      "--------------------------------------------\n",
      "--------------------------------------------\n",
      "threshold is 0.5800000000000003\n",
      "              precision    recall  f1-score   support\n",
      "\n",
      "           0       0.84      0.85      0.85      2397\n",
      "           1       0.85      0.84      0.84      2381\n",
      "\n",
      "    accuracy                           0.85      4778\n",
      "   macro avg       0.85      0.85      0.85      4778\n",
      "weighted avg       0.85      0.85      0.85      4778\n",
      "\n",
      "--------------------------------------------\n",
      "--------------------------------------------\n",
      "threshold is 0.5900000000000003\n",
      "              precision    recall  f1-score   support\n",
      "\n",
      "           0       0.84      0.86      0.85      2397\n",
      "           1       0.85      0.84      0.84      2381\n",
      "\n",
      "    accuracy                           0.85      4778\n",
      "   macro avg       0.85      0.85      0.85      4778\n",
      "weighted avg       0.85      0.85      0.85      4778\n",
      "\n",
      "--------------------------------------------\n",
      "--------------------------------------------\n",
      "threshold is 0.6000000000000003\n",
      "              precision    recall  f1-score   support\n",
      "\n",
      "           0       0.84      0.86      0.85      2397\n",
      "           1       0.85      0.83      0.84      2381\n",
      "\n",
      "    accuracy                           0.85      4778\n",
      "   macro avg       0.85      0.85      0.85      4778\n",
      "weighted avg       0.85      0.85      0.85      4778\n",
      "\n",
      "--------------------------------------------\n",
      "--------------------------------------------\n",
      "threshold is 0.6100000000000003\n",
      "              precision    recall  f1-score   support\n",
      "\n",
      "           0       0.84      0.86      0.85      2397\n",
      "           1       0.85      0.83      0.84      2381\n",
      "\n",
      "    accuracy                           0.85      4778\n",
      "   macro avg       0.85      0.85      0.85      4778\n",
      "weighted avg       0.85      0.85      0.85      4778\n",
      "\n",
      "--------------------------------------------\n",
      "--------------------------------------------\n",
      "threshold is 0.6200000000000003\n",
      "              precision    recall  f1-score   support\n",
      "\n",
      "           0       0.84      0.86      0.85      2397\n",
      "           1       0.85      0.83      0.84      2381\n",
      "\n",
      "    accuracy                           0.84      4778\n",
      "   macro avg       0.85      0.84      0.84      4778\n",
      "weighted avg       0.84      0.84      0.84      4778\n",
      "\n",
      "--------------------------------------------\n",
      "--------------------------------------------\n",
      "threshold is 0.6300000000000003\n",
      "              precision    recall  f1-score   support\n",
      "\n",
      "           0       0.83      0.86      0.85      2397\n",
      "           1       0.86      0.83      0.84      2381\n",
      "\n",
      "    accuracy                           0.84      4778\n",
      "   macro avg       0.84      0.84      0.84      4778\n",
      "weighted avg       0.84      0.84      0.84      4778\n",
      "\n",
      "--------------------------------------------\n",
      "--------------------------------------------\n",
      "threshold is 0.6400000000000003\n",
      "              precision    recall  f1-score   support\n",
      "\n",
      "           0       0.83      0.86      0.85      2397\n",
      "           1       0.86      0.82      0.84      2381\n",
      "\n",
      "    accuracy                           0.84      4778\n",
      "   macro avg       0.84      0.84      0.84      4778\n",
      "weighted avg       0.84      0.84      0.84      4778\n",
      "\n",
      "--------------------------------------------\n",
      "--------------------------------------------\n",
      "threshold is 0.6500000000000004\n",
      "              precision    recall  f1-score   support\n",
      "\n",
      "           0       0.83      0.86      0.85      2397\n",
      "           1       0.86      0.82      0.84      2381\n",
      "\n",
      "    accuracy                           0.84      4778\n",
      "   macro avg       0.84      0.84      0.84      4778\n",
      "weighted avg       0.84      0.84      0.84      4778\n",
      "\n",
      "--------------------------------------------\n",
      "--------------------------------------------\n",
      "threshold is 0.6600000000000004\n",
      "              precision    recall  f1-score   support\n",
      "\n",
      "           0       0.82      0.87      0.84      2397\n",
      "           1       0.86      0.81      0.84      2381\n",
      "\n",
      "    accuracy                           0.84      4778\n",
      "   macro avg       0.84      0.84      0.84      4778\n",
      "weighted avg       0.84      0.84      0.84      4778\n",
      "\n",
      "--------------------------------------------\n",
      "--------------------------------------------\n",
      "threshold is 0.6700000000000004\n",
      "              precision    recall  f1-score   support\n",
      "\n",
      "           0       0.82      0.87      0.84      2397\n",
      "           1       0.86      0.81      0.83      2381\n",
      "\n",
      "    accuracy                           0.84      4778\n",
      "   macro avg       0.84      0.84      0.84      4778\n",
      "weighted avg       0.84      0.84      0.84      4778\n",
      "\n",
      "--------------------------------------------\n",
      "--------------------------------------------\n",
      "threshold is 0.6800000000000004\n",
      "              precision    recall  f1-score   support\n",
      "\n",
      "           0       0.82      0.87      0.84      2397\n",
      "           1       0.86      0.81      0.83      2381\n",
      "\n",
      "    accuracy                           0.84      4778\n",
      "   macro avg       0.84      0.84      0.84      4778\n",
      "weighted avg       0.84      0.84      0.84      4778\n",
      "\n",
      "--------------------------------------------\n",
      "--------------------------------------------\n",
      "threshold is 0.6900000000000004\n",
      "              precision    recall  f1-score   support\n",
      "\n",
      "           0       0.82      0.87      0.84      2397\n",
      "           1       0.86      0.80      0.83      2381\n",
      "\n",
      "    accuracy                           0.84      4778\n",
      "   macro avg       0.84      0.84      0.84      4778\n",
      "weighted avg       0.84      0.84      0.84      4778\n",
      "\n",
      "--------------------------------------------\n",
      "--------------------------------------------\n",
      "threshold is 0.7000000000000004\n",
      "              precision    recall  f1-score   support\n",
      "\n",
      "           0       0.81      0.87      0.84      2397\n",
      "           1       0.86      0.80      0.83      2381\n",
      "\n",
      "    accuracy                           0.84      4778\n",
      "   macro avg       0.84      0.84      0.84      4778\n",
      "weighted avg       0.84      0.84      0.84      4778\n",
      "\n",
      "--------------------------------------------\n",
      "--------------------------------------------\n",
      "threshold is 0.7100000000000004\n",
      "              precision    recall  f1-score   support\n",
      "\n",
      "           0       0.81      0.87      0.84      2397\n",
      "           1       0.86      0.79      0.83      2381\n",
      "\n",
      "    accuracy                           0.83      4778\n",
      "   macro avg       0.84      0.83      0.83      4778\n",
      "weighted avg       0.84      0.83      0.83      4778\n",
      "\n",
      "--------------------------------------------\n",
      "--------------------------------------------\n",
      "threshold is 0.7200000000000004\n",
      "              precision    recall  f1-score   support\n",
      "\n",
      "           0       0.81      0.88      0.84      2397\n",
      "           1       0.86      0.79      0.82      2381\n",
      "\n",
      "    accuracy                           0.83      4778\n",
      "   macro avg       0.84      0.83      0.83      4778\n",
      "weighted avg       0.84      0.83      0.83      4778\n",
      "\n",
      "--------------------------------------------\n",
      "--------------------------------------------\n",
      "threshold is 0.7300000000000004\n",
      "              precision    recall  f1-score   support\n",
      "\n",
      "           0       0.80      0.88      0.84      2397\n",
      "           1       0.87      0.78      0.82      2381\n",
      "\n",
      "    accuracy                           0.83      4778\n",
      "   macro avg       0.84      0.83      0.83      4778\n",
      "weighted avg       0.84      0.83      0.83      4778\n",
      "\n",
      "--------------------------------------------\n",
      "--------------------------------------------\n",
      "threshold is 0.7400000000000004\n",
      "              precision    recall  f1-score   support\n",
      "\n",
      "           0       0.80      0.88      0.84      2397\n",
      "           1       0.87      0.78      0.82      2381\n",
      "\n",
      "    accuracy                           0.83      4778\n",
      "   macro avg       0.83      0.83      0.83      4778\n",
      "weighted avg       0.83      0.83      0.83      4778\n",
      "\n",
      "--------------------------------------------\n",
      "--------------------------------------------\n",
      "threshold is 0.7500000000000004\n",
      "              precision    recall  f1-score   support\n",
      "\n",
      "           0       0.79      0.88      0.84      2397\n",
      "           1       0.87      0.77      0.82      2381\n",
      "\n",
      "    accuracy                           0.83      4778\n",
      "   macro avg       0.83      0.83      0.83      4778\n",
      "weighted avg       0.83      0.83      0.83      4778\n",
      "\n",
      "--------------------------------------------\n",
      "--------------------------------------------\n",
      "threshold is 0.7600000000000005\n",
      "              precision    recall  f1-score   support\n",
      "\n",
      "           0       0.79      0.89      0.83      2397\n",
      "           1       0.87      0.76      0.81      2381\n",
      "\n",
      "    accuracy                           0.82      4778\n",
      "   macro avg       0.83      0.82      0.82      4778\n",
      "weighted avg       0.83      0.82      0.82      4778\n",
      "\n",
      "--------------------------------------------\n",
      "--------------------------------------------\n",
      "threshold is 0.7700000000000005\n",
      "              precision    recall  f1-score   support\n",
      "\n",
      "           0       0.79      0.89      0.83      2397\n",
      "           1       0.87      0.76      0.81      2381\n",
      "\n",
      "    accuracy                           0.82      4778\n",
      "   macro avg       0.83      0.82      0.82      4778\n",
      "weighted avg       0.83      0.82      0.82      4778\n",
      "\n",
      "--------------------------------------------\n",
      "--------------------------------------------\n",
      "threshold is 0.7800000000000005\n",
      "              precision    recall  f1-score   support\n",
      "\n",
      "           0       0.78      0.89      0.83      2397\n",
      "           1       0.87      0.75      0.81      2381\n",
      "\n",
      "    accuracy                           0.82      4778\n",
      "   macro avg       0.83      0.82      0.82      4778\n",
      "weighted avg       0.83      0.82      0.82      4778\n",
      "\n",
      "--------------------------------------------\n",
      "--------------------------------------------\n",
      "threshold is 0.7900000000000005\n",
      "              precision    recall  f1-score   support\n",
      "\n",
      "           0       0.78      0.90      0.83      2397\n",
      "           1       0.88      0.74      0.80      2381\n",
      "\n",
      "    accuracy                           0.82      4778\n",
      "   macro avg       0.83      0.82      0.82      4778\n",
      "weighted avg       0.83      0.82      0.82      4778\n",
      "\n",
      "--------------------------------------------\n",
      "--------------------------------------------\n",
      "threshold is 0.8000000000000005\n",
      "              precision    recall  f1-score   support\n",
      "\n",
      "           0       0.77      0.90      0.83      2397\n",
      "           1       0.88      0.74      0.80      2381\n",
      "\n",
      "    accuracy                           0.82      4778\n",
      "   macro avg       0.83      0.82      0.82      4778\n",
      "weighted avg       0.83      0.82      0.82      4778\n",
      "\n",
      "--------------------------------------------\n",
      "--------------------------------------------\n",
      "threshold is 0.8100000000000005\n"
     ]
    },
    {
     "name": "stdout",
     "output_type": "stream",
     "text": [
      "              precision    recall  f1-score   support\n",
      "\n",
      "           0       0.77      0.90      0.83      2397\n",
      "           1       0.88      0.73      0.80      2381\n",
      "\n",
      "    accuracy                           0.81      4778\n",
      "   macro avg       0.82      0.81      0.81      4778\n",
      "weighted avg       0.82      0.81      0.81      4778\n",
      "\n",
      "--------------------------------------------\n",
      "--------------------------------------------\n",
      "threshold is 0.8200000000000005\n",
      "              precision    recall  f1-score   support\n",
      "\n",
      "           0       0.76      0.90      0.83      2397\n",
      "           1       0.88      0.72      0.79      2381\n",
      "\n",
      "    accuracy                           0.81      4778\n",
      "   macro avg       0.82      0.81      0.81      4778\n",
      "weighted avg       0.82      0.81      0.81      4778\n",
      "\n",
      "--------------------------------------------\n",
      "--------------------------------------------\n",
      "threshold is 0.8300000000000005\n",
      "              precision    recall  f1-score   support\n",
      "\n",
      "           0       0.76      0.91      0.83      2397\n",
      "           1       0.88      0.71      0.79      2381\n",
      "\n",
      "    accuracy                           0.81      4778\n",
      "   macro avg       0.82      0.81      0.81      4778\n",
      "weighted avg       0.82      0.81      0.81      4778\n",
      "\n",
      "--------------------------------------------\n",
      "--------------------------------------------\n",
      "threshold is 0.8400000000000005\n",
      "              precision    recall  f1-score   support\n",
      "\n",
      "           0       0.75      0.91      0.82      2397\n",
      "           1       0.88      0.70      0.78      2381\n",
      "\n",
      "    accuracy                           0.80      4778\n",
      "   macro avg       0.82      0.80      0.80      4778\n",
      "weighted avg       0.82      0.80      0.80      4778\n",
      "\n",
      "--------------------------------------------\n",
      "--------------------------------------------\n",
      "threshold is 0.8500000000000005\n",
      "              precision    recall  f1-score   support\n",
      "\n",
      "           0       0.75      0.91      0.82      2397\n",
      "           1       0.88      0.69      0.77      2381\n",
      "\n",
      "    accuracy                           0.80      4778\n",
      "   macro avg       0.81      0.80      0.80      4778\n",
      "weighted avg       0.81      0.80      0.80      4778\n",
      "\n",
      "--------------------------------------------\n",
      "--------------------------------------------\n",
      "threshold is 0.8600000000000005\n",
      "              precision    recall  f1-score   support\n",
      "\n",
      "           0       0.74      0.91      0.82      2397\n",
      "           1       0.89      0.68      0.77      2381\n",
      "\n",
      "    accuracy                           0.80      4778\n",
      "   macro avg       0.81      0.79      0.79      4778\n",
      "weighted avg       0.81      0.80      0.79      4778\n",
      "\n",
      "--------------------------------------------\n",
      "--------------------------------------------\n",
      "threshold is 0.8700000000000006\n",
      "              precision    recall  f1-score   support\n",
      "\n",
      "           0       0.73      0.92      0.81      2397\n",
      "           1       0.89      0.66      0.76      2381\n",
      "\n",
      "    accuracy                           0.79      4778\n",
      "   macro avg       0.81      0.79      0.79      4778\n",
      "weighted avg       0.81      0.79      0.79      4778\n",
      "\n",
      "--------------------------------------------\n",
      "--------------------------------------------\n",
      "threshold is 0.8800000000000006\n",
      "              precision    recall  f1-score   support\n",
      "\n",
      "           0       0.73      0.92      0.81      2397\n",
      "           1       0.89      0.65      0.75      2381\n",
      "\n",
      "    accuracy                           0.79      4778\n",
      "   macro avg       0.81      0.79      0.78      4778\n",
      "weighted avg       0.81      0.79      0.78      4778\n",
      "\n",
      "--------------------------------------------\n",
      "--------------------------------------------\n",
      "threshold is 0.8900000000000006\n",
      "              precision    recall  f1-score   support\n",
      "\n",
      "           0       0.72      0.92      0.81      2397\n",
      "           1       0.89      0.64      0.75      2381\n",
      "\n",
      "    accuracy                           0.78      4778\n",
      "   macro avg       0.81      0.78      0.78      4778\n",
      "weighted avg       0.81      0.78      0.78      4778\n",
      "\n",
      "--------------------------------------------\n",
      "--------------------------------------------\n",
      "threshold is 0.9000000000000006\n",
      "              precision    recall  f1-score   support\n",
      "\n",
      "           0       0.71      0.93      0.81      2397\n",
      "           1       0.90      0.63      0.74      2381\n",
      "\n",
      "    accuracy                           0.78      4778\n",
      "   macro avg       0.80      0.78      0.77      4778\n",
      "weighted avg       0.80      0.78      0.77      4778\n",
      "\n",
      "--------------------------------------------\n",
      "--------------------------------------------\n",
      "threshold is 0.9100000000000006\n",
      "              precision    recall  f1-score   support\n",
      "\n",
      "           0       0.71      0.93      0.81      2397\n",
      "           1       0.90      0.62      0.73      2381\n",
      "\n",
      "    accuracy                           0.77      4778\n",
      "   macro avg       0.80      0.77      0.77      4778\n",
      "weighted avg       0.80      0.77      0.77      4778\n",
      "\n",
      "--------------------------------------------\n",
      "--------------------------------------------\n",
      "threshold is 0.9200000000000006\n",
      "              precision    recall  f1-score   support\n",
      "\n",
      "           0       0.70      0.93      0.80      2397\n",
      "           1       0.90      0.60      0.72      2381\n",
      "\n",
      "    accuracy                           0.77      4778\n",
      "   macro avg       0.80      0.77      0.76      4778\n",
      "weighted avg       0.80      0.77      0.76      4778\n",
      "\n",
      "--------------------------------------------\n",
      "--------------------------------------------\n",
      "threshold is 0.9300000000000006\n",
      "              precision    recall  f1-score   support\n",
      "\n",
      "           0       0.69      0.94      0.80      2397\n",
      "           1       0.90      0.59      0.71      2381\n",
      "\n",
      "    accuracy                           0.76      4778\n",
      "   macro avg       0.80      0.76      0.75      4778\n",
      "weighted avg       0.80      0.76      0.75      4778\n",
      "\n",
      "--------------------------------------------\n",
      "--------------------------------------------\n",
      "threshold is 0.9400000000000006\n",
      "              precision    recall  f1-score   support\n",
      "\n",
      "           0       0.68      0.94      0.79      2397\n",
      "           1       0.90      0.56      0.69      2381\n",
      "\n",
      "    accuracy                           0.75      4778\n",
      "   macro avg       0.79      0.75      0.74      4778\n",
      "weighted avg       0.79      0.75      0.74      4778\n",
      "\n",
      "--------------------------------------------\n",
      "--------------------------------------------\n",
      "threshold is 0.9500000000000006\n",
      "              precision    recall  f1-score   support\n",
      "\n",
      "           0       0.67      0.94      0.79      2397\n",
      "           1       0.90      0.54      0.68      2381\n",
      "\n",
      "    accuracy                           0.74      4778\n",
      "   macro avg       0.79      0.74      0.73      4778\n",
      "weighted avg       0.79      0.74      0.73      4778\n",
      "\n",
      "--------------------------------------------\n",
      "--------------------------------------------\n",
      "threshold is 0.9600000000000006\n",
      "              precision    recall  f1-score   support\n",
      "\n",
      "           0       0.66      0.95      0.78      2397\n",
      "           1       0.91      0.51      0.65      2381\n",
      "\n",
      "    accuracy                           0.73      4778\n",
      "   macro avg       0.78      0.73      0.71      4778\n",
      "weighted avg       0.78      0.73      0.71      4778\n",
      "\n",
      "--------------------------------------------\n",
      "--------------------------------------------\n",
      "threshold is 0.9700000000000006\n",
      "              precision    recall  f1-score   support\n",
      "\n",
      "           0       0.64      0.96      0.77      2397\n",
      "           1       0.92      0.47      0.62      2381\n",
      "\n",
      "    accuracy                           0.71      4778\n",
      "   macro avg       0.78      0.71      0.69      4778\n",
      "weighted avg       0.78      0.71      0.69      4778\n",
      "\n",
      "--------------------------------------------\n",
      "--------------------------------------------\n",
      "threshold is 0.9800000000000006\n",
      "              precision    recall  f1-score   support\n",
      "\n",
      "           0       0.63      0.97      0.76      2397\n",
      "           1       0.92      0.42      0.58      2381\n",
      "\n",
      "    accuracy                           0.69      4778\n",
      "   macro avg       0.78      0.69      0.67      4778\n",
      "weighted avg       0.77      0.69      0.67      4778\n",
      "\n",
      "--------------------------------------------\n",
      "--------------------------------------------\n",
      "threshold is 0.9900000000000007\n",
      "              precision    recall  f1-score   support\n",
      "\n",
      "           0       0.60      0.97      0.74      2397\n",
      "           1       0.93      0.36      0.51      2381\n",
      "\n",
      "    accuracy                           0.67      4778\n",
      "   macro avg       0.77      0.66      0.63      4778\n",
      "weighted avg       0.77      0.67      0.63      4778\n",
      "\n"
     ]
    }
   ],
   "source": [
    "for threshold in np.arange(0.3, 1.0, 0.01):\n",
    "    print(\"--------------------------------------------\")\n",
    "    print(\"--------------------------------------------\")\n",
    "    pred=[]\n",
    "    print(\"threshold is\", threshold)\n",
    "    for i in predicted:\n",
    "        if i > threshold:\n",
    "                pred.append(1)\n",
    "        else:\n",
    "                pred.append(0)\n",
    "    \n",
    "    print(classification_report(y_test,pred))\n",
    "    del pred\n",
    "                "
   ]
  },
  {
   "cell_type": "code",
   "execution_count": 79,
   "metadata": {},
   "outputs": [],
   "source": [
    "## choosing the treshold 0.55"
   ]
  },
  {
   "cell_type": "code",
   "execution_count": 80,
   "metadata": {},
   "outputs": [
    {
     "name": "stdout",
     "output_type": "stream",
     "text": [
      "              precision    recall  f1-score   support\n",
      "\n",
      "           0       0.85      0.85      0.85      2397\n",
      "           1       0.85      0.84      0.85      2381\n",
      "\n",
      "    accuracy                           0.85      4778\n",
      "   macro avg       0.85      0.85      0.85      4778\n",
      "weighted avg       0.85      0.85      0.85      4778\n",
      "\n"
     ]
    }
   ],
   "source": [
    "pred=[]\n",
    "for i in predicted:\n",
    "        if i > 0.56:\n",
    "                pred.append(1)\n",
    "        else:\n",
    "                pred.append(0)\n",
    "    \n",
    "print(classification_report(y_test,pred))"
   ]
  },
  {
   "cell_type": "markdown",
   "metadata": {},
   "source": [
    "### Here our model preidct very well on test data \n",
    "### Model give 90.77% accuarcy on train data set and 85.00% accuarcy on test dataset."
   ]
  },
  {
   "cell_type": "code",
   "execution_count": 81,
   "metadata": {},
   "outputs": [],
   "source": [
    "# model save\n",
    "# model.save('Churn_predicition_model1.h5')"
   ]
  },
  {
   "cell_type": "code",
   "execution_count": null,
   "metadata": {},
   "outputs": [],
   "source": []
  },
  {
   "cell_type": "code",
   "execution_count": null,
   "metadata": {},
   "outputs": [],
   "source": []
  },
  {
   "cell_type": "code",
   "execution_count": null,
   "metadata": {},
   "outputs": [],
   "source": []
  },
  {
   "cell_type": "code",
   "execution_count": null,
   "metadata": {},
   "outputs": [],
   "source": []
  },
  {
   "cell_type": "code",
   "execution_count": null,
   "metadata": {},
   "outputs": [],
   "source": []
  },
  {
   "cell_type": "code",
   "execution_count": null,
   "metadata": {},
   "outputs": [],
   "source": []
  },
  {
   "cell_type": "code",
   "execution_count": null,
   "metadata": {},
   "outputs": [],
   "source": []
  }
 ],
 "metadata": {
  "kernelspec": {
   "display_name": "Python 3",
   "language": "python",
   "name": "python3"
  },
  "language_info": {
   "codemirror_mode": {
    "name": "ipython",
    "version": 3
   },
   "file_extension": ".py",
   "mimetype": "text/x-python",
   "name": "python",
   "nbconvert_exporter": "python",
   "pygments_lexer": "ipython3",
   "version": "3.8.5"
  }
 },
 "nbformat": 4,
 "nbformat_minor": 4
}
